{
 "cells": [
  {
   "cell_type": "code",
   "execution_count": null,
   "id": "7c11d15a",
   "metadata": {},
   "outputs": [],
   "source": [
    "from langgraph.graph import START, END, StateGraph\n",
    "from langgraph.types import Send\n",
    "from typing import TypedDict\n",
    "from openai import OpenAI\n",
    "from langchain.chat_models import init_chat_model\n",
    "from typing_extensions import Annotated\n",
    "\n",
    "import subprocess\n",
    "import textwrap\n",
    "import operator\n",
    "import base64\n",
    "\n",
    "llm = init_chat_model(\"openai:gpt-4o-mini\")\n",
    "\n",
    "class State(TypedDict):\n",
    "    video_file: str\n",
    "    audio_file: str\n",
    "    transcription: str\n",
    "    summaries: Annotated[list[str], operator.add]\n",
    "    thumbnail_prompts: Annotated[list[str], operator.add]\n",
    "    thumbnail_sketches: Annotated[list[str], operator.add]\n",
    "    final_summary: str\n",
    "    "
   ]
  },
  {
   "cell_type": "code",
   "execution_count": null,
   "id": "d26ce84a",
   "metadata": {},
   "outputs": [],
   "source": [
    "def extract_audio(state: State):\n",
    "    output_file = state[\"video_file\"].replace(\"mp4\", \"mp3\")\n",
    "    command = [\n",
    "        \"ffmpeg\",\n",
    "        \"-i\",\n",
    "        state[\"video_file\"],\n",
    "        \"-filter:a\",\n",
    "        \"atempo=2.0\", # pay an half\n",
    "        \"-y\",\n",
    "        output_file,\n",
    "    ]\n",
    "    subprocess.run(command)\n",
    "    \n",
    "    return { \"audio_file\": output_file }\n",
    "\n",
    "def transcribe_audio(state: State):\n",
    "    client = OpenAI()\n",
    "    with open(state[\"audio_file\"], \"rb\") as f:\n",
    "        transcription = client.audio.transcriptions.create(\n",
    "            model=\"whisper-1\",\n",
    "            response_format=\"text\",\n",
    "            file=f,\n",
    "            language=\"ko\", # hint to model\n",
    "            # prompt=\"Mizaki\" # Give hint to model, words list\n",
    "        )\n",
    "        \n",
    "    return { \"transcription\": transcription }\n",
    "\n",
    "def dispatch_summarizers(state: State):\n",
    "    transcription = state[\"transcription\"]\n",
    "    chunks = []\n",
    "    for i, chunk in enumerate(textwrap.wrap(transcription, 500)):\n",
    "        chunks.append({\"id\": i+1, \"chunk\": chunk})\n",
    "    \n",
    "    return [Send(summarize_chunk.__name__, chunk) for chunk in chunks]\n",
    "\n",
    "def summarize_chunk(chunk: str):\n",
    "    chunk_id = chunk[\"id\"]\n",
    "    chunk = chunk[\"chunk\"]\n",
    "\n",
    "    response = llm.invoke(f\"\"\"\n",
    "    Please summarize the following text and response in Korean.\n",
    "\n",
    "    Text: {chunk}\n",
    "    \"\"\")\n",
    "    summary = f\"[Chunk {chunk_id}] {response.content}\"\n",
    "\n",
    "    return {\"summaries\": [summary]}\n",
    "\n",
    "def mega_summary(state: State):\n",
    "    all_summaries = \"\\n\".join(state[\"summaries\"])\n",
    "    response = llm.invoke(f\"\"\"\n",
    "    You are given multiple summaries of different chunks from a video transcription.\n",
    "    Please create a comprehensive final summary that combines all the key points.\n",
    "    Individual summaries:\n",
    "\n",
    "    {all_summaries}\n",
    "    \"\"\")\n",
    "\n",
    "    return {\"final_summary\": response.content}\n",
    "\n",
    "def dispatch_artists(state: State):\n",
    "    return [Send(generate_thumbnail.__name__, {\"id\": i, \"summary\": state[\"final_summary\"]}) for i in range(5)]\n",
    "\n",
    "def generate_thumbnail(args):\n",
    "    concept_id = args[\"id\"]\n",
    "    summary = args[\"summary\"]\n",
    "\n",
    "    prompt = f\"\"\"\n",
    "    Based on this video summary, create a detailed visual prompt for a YouTube thumbnail.\n",
    "\n",
    "    Create a detailed prompt for generating a thumbnail image that would attract viewers. Include:\n",
    "        - Main visual elements\n",
    "        - Color scheme\n",
    "        - Text overlay suggestions\n",
    "        - Overall composition\n",
    "    \n",
    "    Summary: {summary}\n",
    "    \"\"\"\n",
    "\n",
    "    response = llm.invoke(prompt)\n",
    "\n",
    "    thumbnail_prompt = response.content\n",
    "\n",
    "    client = OpenAI()\n",
    "    result = client.images.generate(\n",
    "        model=\"gpt-image-1\",\n",
    "        prompt=thumbnail_prompt,\n",
    "        quantity=1,\n",
    "        moderation=\"low\",\n",
    "        size=\"auto\",\n",
    "    ) # base64\n",
    "    image_bytes = base64.b64decode(result.data[0].b64_json)\n",
    "    \n",
    "    filename = f\"thumbnail_{concept_id}.jpg\"\n",
    "\n",
    "    with open(filename, \"wb\") as f:\n",
    "        f.write(image_bytes)\n"
   ]
  },
  {
   "cell_type": "code",
   "execution_count": null,
   "id": "e3af46c1",
   "metadata": {},
   "outputs": [
    {
     "data": {
      "image/png": "[encoded data removed]",
      "text/plain": [
       "<langgraph.graph.state.CompiledStateGraph object at 0x118b79150>"
      ]
     },
     "execution_count": 43,
     "metadata": {},
     "output_type": "execute_result"
    }
   ],
   "source": [
    "graph_builder = StateGraph(State)\n",
    "\n",
    "graph_builder.add_node(extract_audio.__name__, extract_audio)\n",
    "graph_builder.add_node(transcribe_audio.__name__, transcribe_audio)\n",
    "graph_builder.add_node(summarize_chunk.__name__, summarize_chunk)\n",
    "graph_builder.add_node(mega_summary.__name__, mega_summary)\n",
    "graph_builder.add_node(generate_thumbnail.__name__, generate_thumbnail)\n",
    "\n",
    "graph_builder.add_edge(START, extract_audio.__name__)\n",
    "graph_builder.add_edge(extract_audio.__name__, transcribe_audio.__name__)\n",
    "graph_builder.add_conditional_edges(transcribe_audio.__name__, dispatch_summarizers, [summarize_chunk.__name__])\n",
    "graph_builder.add_edge(summarize_chunk.__name__, mega_summary.__name__)\n",
    "graph_builder.add_conditional_edges(mega_summary.__name__, dispatch_artists, [generate_thumbnail.__name__])\n",
    "graph_builder.add_edge(generate_thumbnail.__name__, END)\n",
    "\n",
    "graph = graph_builder.compile()\n",
    "\n",
    "graph"
   ]
  },
  {
   "cell_type": "code",
   "execution_count": 40,
   "id": "58e81430",
   "metadata": {},
   "outputs": [
    {
     "name": "stderr",
     "output_type": "stream",
     "text": [
      "ffmpeg version 8.0 Copyright (c) 2000-2025 the FFmpeg developers\n",
      "  built with Apple clang version 17.0.0 (clang-1700.0.13.3)\n",
      "  configuration: --prefix=/opt/homebrew/Cellar/ffmpeg/8.0_1 --enable-shared --enable-pthreads --enable-version3 --cc=clang --host-cflags= --host-ldflags='-Wl,-ld_classic' --enable-ffplay --enable-gnutls --enable-gpl --enable-libaom --enable-libaribb24 --enable-libbluray --enable-libdav1d --enable-libharfbuzz --enable-libjxl --enable-libmp3lame --enable-libopus --enable-librav1e --enable-librist --enable-librubberband --enable-libsnappy --enable-libsrt --enable-libssh --enable-libsvtav1 --enable-libtesseract --enable-libtheora --enable-libvidstab --enable-libvmaf --enable-libvorbis --enable-libvpx --enable-libwebp --enable-libx264 --enable-libx265 --enable-libxml2 --enable-libxvid --enable-lzma --enable-libfontconfig --enable-libfreetype --enable-frei0r --enable-libass --enable-libopencore-amrnb --enable-libopencore-amrwb --enable-libopenjpeg --enable-libspeex --enable-libsoxr --enable-libzmq --enable-libzimg --disable-libjack --disable-indev=jack --enable-videotoolbox --enable-audiotoolbox --enable-neon\n",
      "  libavutil      60.  8.100 / 60.  8.100\n",
      "  libavcodec     62. 11.100 / 62. 11.100\n",
      "  libavformat    62.  3.100 / 62.  3.100\n",
      "  libavdevice    62.  1.100 / 62.  1.100\n",
      "  libavfilter    11.  4.100 / 11.  4.100\n",
      "  libswscale      9.  1.100 /  9.  1.100\n",
      "  libswresample   6.  1.100 /  6.  1.100\n",
      "Input #0, mpegts, from 'lifeof20.mp4':\n",
      "  Duration: 00:06:51.64, start: 0.000000, bitrate: 1282 kb/s\n",
      "  Program 1 \n",
      "  Stream #0:0[0x101]: Audio: aac (LC) ([15][0][0][0] / 0x000F), 44100 Hz, stereo, fltp, 130 kb/s\n",
      "  Stream #0:1[0x100]: Video: h264 (High) ([27][0][0][0] / 0x001B), yuv420p(tv, bt709, progressive), 1920x960 [SAR 1:1 DAR 2:1], 23.98 fps, 23.98 tbr, 90k tbn, start 0.041700\n",
      "Stream mapping:\n",
      "  Stream #0:0 -> #0:0 (aac (native) -> mp3 (libmp3lame))\n",
      "Press [q] to stop, [?] for help\n",
      "Output #0, mp3, to 'lifeof20.mp3':\n",
      "  Metadata:\n",
      "    TSSE            : Lavf62.3.100\n",
      "  Stream #0:0: Audio: mp3, 44100 Hz, stereo, fltp\n",
      "    Metadata:\n",
      "      encoder         : Lavc62.11.100 libmp3lame\n",
      "[out#0/mp3 @ 0x1176045c0] video:0KiB audio:3217KiB subtitle:0KiB other streams:0KiB global headers:0KiB muxing overhead: 0.007650%\n",
      "size=    3217KiB time=00:03:25.82 bitrate= 128.0kbits/s speed= 120x elapsed=0:00:01.71    \n"
     ]
    },
    {
     "data": {
      "text/plain": [
       "{'video_file': 'lifeof20.mp4',\n",
       " 'audio_file': 'lifeof20.mp3',\n",
       " 'transcription': '오늘은 게임 개발자의 정석에 대해 알려드리겠습니다 인생도 게임도 결국 루프인데요 단추 하나라도 잘못 끼우면 에러 폭발 그럼 첫 번째 성적이 정정돼요 연락드립니다 전화주세요 특히 과제 체크 안 하면 스무 살 첫 단추부터 잘못 그렸어 게임에서 가고 싶으면서 사학과를 왜 가가지고 아 네 교수님 안녕하세요 아 네 다름이 아니라요 네 과제는 똑같이 제출을 했는데 팀원들이랑 근데 저만 뭔가 승인이 안 돼가지고 체크가 안 됐더라고요 어떻게 아 네 아 죄송합니다 교수님 저 D 맞으면은 졸업을 못 해가지고 저 졸업 밀리면 안 돼요 진짜 교수님 죄송합니다 제가 다시 한번 확인을 해보는데 나도 잠 좀 자고 싶다고요 벌써 새벽 4시 자는 것도 내 마음대로 안 되고 등록금, 학원비, 생활비 나 하나 먹여 살리는데도 너무 많은 힘이 든다 140억 황금 매수? 너랑 동갑인데 난 지금까지 뭐 했냐? 뭐 했냐고? 뭐 했냐고? 난 지금까지 뭐 했냐? 주문하신 아메리카노 나왔습니다 주문하신 아메리카노 나왔습니다 에이 커피! 안 마셔요 커피 드세요 커피 아! 바방지에 뭘 산 거야? 아! 아이씨 아! 아! 교수님들은 자기 손만 듣는 줄 아시나 봐 수업이 좀 늦었네? 벌레도 다 빨고 화장실 청소 다 해놨어 아 형 이거 내가 할 일인데 아니 그리고 왜 이렇게 발바닥 열심히 하는 거야? 고맙다는 말 한마디가 어렵나? 너 과제할 시간도 없을까 봐 나 간단한 애프터는 다 돈 주고 사서 한다니까 그걸 돈 주고 사? 쓸데없이 성실해봤자 다 자기 손해야 네가 시간이 남아도 오는 것도 아닌데 그리고 음식도 좀 적당히 뿌려야지 그런가? 근데 형 그거 뭐야? 뭐 먹었어? 아! 쓸데없이 성실해봤자 다 자기 손해야 네가 시간이 남아도 오는 것도 아닌데 오빠 이거 봐봐 오빠 어? 내 얘기 듣고 있는 거야? 아직도 말 안 했어? 아니 듣고 있었어 수업은 어떻게 하고 여행을 갔어? 당연히 짰지 두 번까지는 괜찮아 몰랐거든? 야 여기 가야 된다 수업 가야 돼 아 괜찮아 괜찮아 그럼 가 가게 하고 수업하자 아 나는 수업 때까지 시간도 남아서 아 오빠 뭔 일 있어요? 아까부터 계속 딴 생각 하시길래 뭔 일 있나 아니 음 저는 그 현타가 좀 세게 맞은 날엔 남이 하는 얘기 잘 안 들리고 그러더라고요 그래서 혹시나 똑같이 뭐 그지 같아 아 아 미안 아 내가 제일 싫어하는 게 힘 빠진 소리 하는 건데 아 에이 오빠 똑부러져서 나랑 완전 다를 줄 알았는데 되게 친근한데요? 그래? 근데 그지 맞아 요즘에 개근버지라고 말 알지 초 중고 대학교 때까지 내가 16년을 개근했거든 그게 옛날에는 뭔가 되게 성실하다는 칭찬이었는데 요즘에는 그냥 해외여행 못 가는 거짓이 오빠인데 에이 그런 말이 어딨어요 되게 짜증난다 난 좀 다른 의미긴 한데 아 그 남들 출퇴하고 놀러 다닐 때 나도 좀 땡땡이 좀 쳐볼 걸 아 갑자기 억울하네 에이 저도 안 억울해요 오빠 로망이 스토커 비워서 땡땡이 치는 거 맞아요? 그렇긴 한데 남들이 즉흥여행 가는 건 있어 보이던데 아 난 진짜 그지같네 다칠 때가 아니나 보죠 어 어어어 어어어 어어어 어어어 어어어 어어어 어어어 어어어 어어어 어어어 어어어 어어어 너무 불편한데 아무 수업이나 갈걸 성실한 게 재능인 사람들이야 꼼수를 부리면 안 돼 꼭 이래 꼭 이래 제가 인스타에서 봤는데 무기력하고 힘이 없다 잠이 잘 안 온다 담당할 수 없는 힘든 일들이 생긴다 다 잘될 거라는 증거에요 다 잘되려고 이러는 거겠지 무조건이죠 이 시기가 무사히 지나가게 해주세요 그냥 그렇다면 멤버십에 가입하시면 각본 안에서를 검색하실 수 있습니다 다 되네 근데 퇴근 시간이니까 떡볶이 시켰겠지\\n',\n",
       " 'summaries': ['[Chunk 1] 텍스트 요약: 이 글에서는 게임 개발자에게 필요한 여러 요소들을 언급하고 있습니다. 인생과 게임은 모두 루프이며, 작은 실수 하나로 큰 문제가 발생할 수 있다고 설명합니다. 또한, 과제 제출과 관련된 어려움, 졸업 요건, 그리고 개인적인 스트레스에 대한 언급도 포함되어 있습니다. 결국, 현대 사회의 압박 속에서 개인의 고충과 불안감을 표현하고 있습니다.\\n\\n응답 요약: 게임 개발자의 삶은 복잡하며, 작은 실수로 인해 큰 문제가 생길 수 있다는 점과 졸업 및 개인적인 스트레스에 대해 이야기합니다. 모든 것이 연결되어 있음을 강조합니다.',\n",
       "  '[Chunk 2] 텍스트 요약: 대화 중 사람들이 커피, 과제, 수업 지연 등에 대해 이야기하고 있으며, 누군가가 성실하게 일을 하는 것이 쓸모없다는 의견을 내고 있습니다. 또한, 누군가가 수업을 듣고 있는지에 대한 질문이 오가고 있습니다. 전체적으로 수업과 일, 여행 계획에 대한 논의가 이루어지고 있습니다.\\n\\n한국어 답변: 대화에서는 커피와 수업, 과제, 성실함에 대한 불만이 제기되고 있습니다. 사람들은 서로의 의견을 묻고, 수업 시간에 대한 이야기로 이어지며, 일과 여행 계획에 대해서도 언급하고 있습니다.',\n",
       "  '[Chunk 3] 요약: 대화에서 두 사람은 서로의 고민과 생각을 나누고 있다. 한 사람은 최근에 심란한 마음을 느끼며 남이 하는 말을 잘 듣지 못한다고 하고, 다른 사람은 그에 공감한다. 또한, 오랜 기간 학교를 다닌 경험에 대한 이야기를 하며 사회의 변화에 대한 생각을 나눈다. 그들은 여행과 여가에 대한 부러움과 아쉬움도 표현하고, 서로의 일상에 대한 이야기를 하며 친근감을 느끼고 있다.\\n\\n응답: 두 사람은 서로의 감정과 생각을 공유하며, 일상에 대한 고민과 여행에 대한 부러움을 이야기하고 있다.',\n",
       "  '[Chunk 4] 이 텍스트는 불편한 감정과 힘든 시기를 겪고 있는 사람의 심정을 담고 있습니다. 성실함이 중요한 재능이라고 언급하며, 힘든 일들이 생길 때 긍정적인 관점에서 이를 받아들이려는 모습이 보입니다. 상황이 지나갈 것이라고 믿으며, 또한 회원가입을 통해 특정 정보를 얻을 수 있다고 말하고 있습니다. 마지막에는 퇴근 시간에 떡볶이를 시켰을 것이라는 가벼운 언급이 있습니다.\\n\\n요약: 이 텍스트는 힘든 시기를 겪고 있는 사람의 감정과 성실함의 중요성을 이야기하며, 긍정적인 시각으로 상황을 바라보려는 포부를 나타냅니다.']}"
      ]
     },
     "execution_count": 40,
     "metadata": {},
     "output_type": "execute_result"
    }
   ],
   "source": [
    "graph.invoke({\"video_file\": \"lifeof20.mp4\"})"
   ]
  },
  {
   "cell_type": "code",
   "execution_count": 41,
   "id": "ad6adf84",
   "metadata": {},
   "outputs": [
    {
     "name": "stdout",
     "output_type": "stream",
     "text": [
      "Chunk ID : 0: 오늘은 게임 개발자의 정석에 대해 알려드리겠습니다 인생도 게임도 결국 루프인데요 단추 하나라도 잘못 끼우면 에러 폭발 그럼 첫 번째 성적이 정정돼요 연락드립니다 전화주세요 특히 과제 체크 안 하면 스무 살 첫 단추부터 잘못 그렸어 게임에서 가고 싶으면서 사학과를 왜 가가지고 아 네 교수님 안녕하세요 아 네 다름이 아니라요 네 과제는 똑같이 제출을 했는데 팀원들이랑 근데 저만 뭔가 승인이 안 돼가지고 체크가 안 됐더라고요 어떻게 아 네 아 죄송합니다 교수님 저 D 맞으면은 졸업을 못 해가지고 저 졸업 밀리면 안 돼요 진짜 교수님 죄송합니다 제가 다시 한번 확인을 해보는데 나도 잠 좀 자고 싶다고요 벌써 새벽 4시 자는 것도 내 맘대로 안 되고 등록금, 학원비, 생활비 나 하나 먹여 살리는데도 너무 많은 힘이 든다 140억 황금 매수? 너랑 동갑인데 난 지금까지 뭐 했냐? 뭐 했냐고? 뭐 했냐고? 난 지금까지 뭐 했냐? 주문하신 아메리카노 나왔습니다 주문하신 아메리카노 나왔습니다 에이\n",
      "=====\n",
      "Chunk ID : 1: 커피! 안 마셔요 커피 드세요 커피 아! 바방지에 뭘 산 거야? 아! 아이씨 아! 아! 아 교수님들은 자기 손만 듣는 줄 아시나 봐 수업이 좀 늦었네 벌레도 다 빨고 화장실 청소 다 해놨어 아우 형 이거 내가 할 일인데 아니 그리고 왜 이렇게 발바닥 열심히 하는 거야? 고맙다는 말 한마디가 어렵나? 너 과제할 시간도 없을까 봐 나 간단한 애프터는 다 돈 주고 사서 한다니까 그걸 돈 주고 사? 쓸데없이 성실해봤자 다 자기 손해야 니가 시간이 남아도는 것도 아닌데 그리고 음식도 좀 적당히 뿌려야지 그런가? 근데 형 그거 뭐야? 뭐 먹었어? 아! 쓸데없이 성실해봤자 다 자기 손해야 니가 시간이 남아도는 것도 아닌데 오빠 이거 봐봐 오빠 어? 내 얘기 듣고 있는 거야? 아직 말도 안 했어? 아니 듣고 있었어 수업은 어떻게 하고 여행을 갔어? 당연히 짰지 두 번까지는 괜찮아 몰랐거든? 야 여기 가야 된다 수업 가야 돼 아휴 괜찮아 괜찮아 그럼 가 가? 아 나는 수업 때까지 시간도 남아서 아\n",
      "=====\n",
      "Chunk ID : 2: 오빠 뭔 일 있어요? 아까부터 계속 딴 생각 하시길래 언니 있나 아니 저는 그 현타가 좀 세게 맞은 날엔 남이 하는 얘기 잘 안 들리고 그러더라고요 그래서 혹시나 똑같이 뭐 그지같애 아 아 미안 아 내가 제일 싫어하는 게 힘 빠진 소리 하는 건데 아 에이 오빠 똑부러져서 나랑 완전 다를 줄 알았는데 되게 친근한데요? 그래? 근데 그지 맞아 요즘에 개근버지라고 말 알지 초 중고 대학교 때까지 내가 16년을 개근했거든 그게 옛날에는 뭔가 되게 성실하다는 칭찬이었는데 요즘에는 그냥 해외여행 못 가는 거짓이 오빠인데 에이 그런 말 어딨어요 난 좀 다른 의미긴 한데 아 그 남들 출퇴하고 놀러 다닐 때 나도 좀 땡땡이 좀 쳐볼 걸 아 갑자기 억울하네 에이 저도 안 억울해요 오빠 욕망이 스토커 비워서 땡땡이 치는 거 맞아요? 그렇긴 한데 남들이 즉흥여행 가는 건 있어 보이던데 아 난 진짜 그지같애 다치기 때가 아니나 보죠 어 어 막내 막내 막내 막내 뭐야 무슨 일인데 근처 카페가 다 닫아가지고\n",
      "=====\n",
      "Chunk ID : 3: 아 진짜요? 아휴 그래도 날씨 좋아져서 다행이다 그러게 땡땡이 쳐보니까 어때요? 마음이 너무 불편한데 아 뭐 수업이나 갈걸 성실한 게 재능인 사람들이야 꼼수를 부리면 안 돼 꼭 이래 응 꼭 이래 제가 인스타에서 봤는데 무기력하고 힘이 없다 잠이 잘 안 온다 담당할 수 없는 힘든 일들이 생긴다 다 잘될 거라는 증거예요 다 잘되려고 이러는 거겠지 무조건이죠 이 시기가 무사히 지나가게 해주세요 그냥 그렇다면 멤버십에 관여하시면 짧은 대본 스크린 오프 박범 안에서를 검색하실 수 있습니다 다 되네 근데 퇴근 시간이니까 꼭 퇴근식이겠지\n",
      "=====\n"
     ]
    }
   ],
   "source": [
    "transcription = \"오늘은 게임 개발자의 정석에 대해 알려드리겠습니다 인생도 게임도 결국 루프인데요 단추 하나라도 잘못 끼우면 에러 폭발 그럼 첫 번째 성적이 정정돼요 연락드립니다 전화주세요 특히 과제 체크 안 하면 스무 살 첫 단추부터 잘못 그렸어 게임에서 가고 싶으면서 사학과를 왜 가가지고 아 네 교수님 안녕하세요 아 네 다름이 아니라요 네 과제는 똑같이 제출을 했는데 팀원들이랑 근데 저만 뭔가 승인이 안 돼가지고 체크가 안 됐더라고요 어떻게 아 네 아 죄송합니다 교수님 저 D 맞으면은 졸업을 못 해가지고 저 졸업 밀리면 안 돼요 진짜 교수님 죄송합니다 제가 다시 한번 확인을 해보는데 나도 잠 좀 자고 싶다고요 벌써 새벽 4시 자는 것도 내 맘대로 안 되고 등록금, 학원비, 생활비 나 하나 먹여 살리는데도 너무 많은 힘이 든다 140억 황금 매수? 너랑 동갑인데 난 지금까지 뭐 했냐? 뭐 했냐고? 뭐 했냐고? 난 지금까지 뭐 했냐? 주문하신 아메리카노 나왔습니다 주문하신 아메리카노 나왔습니다 에이 커피! 안 마셔요 커피 드세요 커피 아! 바방지에 뭘 산 거야? 아! 아이씨 아! 아! 아 교수님들은 자기 손만 듣는 줄 아시나 봐 수업이 좀 늦었네 벌레도 다 빨고 화장실 청소 다 해놨어 아우 형 이거 내가 할 일인데 아니 그리고 왜 이렇게 발바닥 열심히 하는 거야? 고맙다는 말 한마디가 어렵나? 너 과제할 시간도 없을까 봐 나 간단한 애프터는 다 돈 주고 사서 한다니까 그걸 돈 주고 사? 쓸데없이 성실해봤자 다 자기 손해야 니가 시간이 남아도는 것도 아닌데 그리고 음식도 좀 적당히 뿌려야지 그런가? 근데 형 그거 뭐야? 뭐 먹었어? 아! 쓸데없이 성실해봤자 다 자기 손해야 니가 시간이 남아도는 것도 아닌데 오빠 이거 봐봐 오빠 어? 내 얘기 듣고 있는 거야? 아직 말도 안 했어? 아니 듣고 있었어 수업은 어떻게 하고 여행을 갔어? 당연히 짰지 두 번까지는 괜찮아 몰랐거든? 야 여기 가야 된다 수업 가야 돼 아휴 괜찮아 괜찮아 그럼 가 가? 아 나는 수업 때까지 시간도 남아서 아 오빠 뭔 일 있어요? 아까부터 계속 딴 생각 하시길래 언니 있나 아니 저는 그 현타가 좀 세게 맞은 날엔 남이 하는 얘기 잘 안 들리고 그러더라고요 그래서 혹시나 똑같이 뭐 그지같애 아 아 미안 아 내가 제일 싫어하는 게 힘 빠진 소리 하는 건데 아 에이 오빠 똑부러져서 나랑 완전 다를 줄 알았는데 되게 친근한데요? 그래? 근데 그지 맞아 요즘에 개근버지라고 말 알지 초 중고 대학교 때까지 내가 16년을 개근했거든 그게 옛날에는 뭔가 되게 성실하다는 칭찬이었는데 요즘에는 그냥 해외여행 못 가는 거짓이 오빠인데 에이 그런 말 어딨어요 난 좀 다른 의미긴 한데 아 그 남들 출퇴하고 놀러 다닐 때 나도 좀 땡땡이 좀 쳐볼 걸 아 갑자기 억울하네 에이 저도 안 억울해요 오빠 욕망이 스토커 비워서 땡땡이 치는 거 맞아요? 그렇긴 한데 남들이 즉흥여행 가는 건 있어 보이던데 아 난 진짜 그지같애 다치기 때가 아니나 보죠 어 어 막내 막내 막내 막내 뭐야 무슨 일인데 근처 카페가 다 닫아가지고 아 진짜요? 아휴 그래도 날씨 좋아져서 다행이다 그러게 땡땡이 쳐보니까 어때요? 마음이 너무 불편한데 아 뭐 수업이나 갈걸 성실한 게 재능인 사람들이야 꼼수를 부리면 안 돼 꼭 이래 응 꼭 이래 제가 인스타에서 봤는데 무기력하고 힘이 없다 잠이 잘 안 온다 담당할 수 없는 힘든 일들이 생긴다 다 잘될 거라는 증거예요 다 잘되려고 이러는 거겠지 무조건이죠 이 시기가 무사히 지나가게 해주세요 그냥 그렇다면 멤버십에 관여하시면 짧은 대본 스크린 오프 박범 안에서를 검색하실 수 있습니다 다 되네 근데 퇴근 시간이니까 꼭 퇴근식이겠지\\n\"\n",
    "\n",
    "import textwrap\n",
    "\n",
    "for i, chunk in enumerate(textwrap.wrap(transcription, width=500)):\n",
    "    print(f\"Chunk ID : {i}: {chunk}\")\n",
    "    print(\"=====\")"
   ]
  },
  {
   "cell_type": "code",
   "execution_count": null,
   "id": "8a31adb5",
   "metadata": {},
   "outputs": [],
   "source": []
  }
 ],
 "metadata": {
  "kernelspec": {
   "display_name": ".venv",
   "language": "python",
   "name": "python3"
  },
  "language_info": {
   "codemirror_mode": {
    "name": "ipython",
    "version": 3
   },
   "file_extension": ".py",
   "mimetype": "text/x-python",
   "name": "python",
   "nbconvert_exporter": "python",
   "pygments_lexer": "ipython3",
   "version": "3.13.0"
  }
 },
 "nbformat": 4,
 "nbformat_minor": 5
}
