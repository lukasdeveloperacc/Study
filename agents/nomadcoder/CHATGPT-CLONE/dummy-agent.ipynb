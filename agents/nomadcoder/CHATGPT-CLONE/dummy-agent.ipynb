{
 "cells": [
  {
   "cell_type": "code",
   "execution_count": null,
   "id": "260559b7",
   "metadata": {},
   "outputs": [
    {
     "name": "stdout",
     "output_type": "stream",
     "text": [
      "Hello! I'm doing well, thank you for asking. The weather in Madrid, the capital of Spain, is currently 30 degrees Celsius. If you need more details or information about Madrid, just let me know!\n"
     ]
    }
   ],
   "source": [
    "from agents import Agent, Runner, function_tool, ItemHelpers\n",
    "\n",
    "@function_tool\n",
    "def get_weather(city: str):\n",
    "    \"\"\"Get weather for a city\"\"\"\n",
    "    return \"30 degrees\"\n",
    "\n",
    "\n",
    "agent = Agent(name=\"Assistant Agent\",\n",
    "instructions=\"You are a helpful assistant. Use tools when needed to answer questions\",\n",
    "tools=[get_weather])\n",
    "\n",
    "stream = Runner.run_streamed(agent, \"Hello how are you? What is the weather in the captial of Spain?\") # while True loop\n",
    "\n",
    "async for event in stream.stream_events():\n",
    "    if event.type == \"raw_response_event\":\n",
    "        continue\n",
    "    elif event.type == \"agent_updated_stream_event\":\n",
    "        print(\"Agent updated to \", event.new_agent.name)\n",
    "    elif event.type == \"run_item_stream_event\":\n",
    "        if event.item.type == \"tool_call_item\":\n",
    "            print(event.item.raw_item.to_dict())\n",
    "        elif event.item.type == \"tool_call_output_item\":\n",
    "            print(event.item.output)\n",
    "        elif event.item.type == \"message_output_item\":\n",
    "            print(ItemHelpers.text_message_output(event.item)) # Text \n",
    "\n",
    "    print('='*20)"
   ]
  },
  {
   "cell_type": "code",
   "execution_count": null,
   "id": "708a6bb3",
   "metadata": {},
   "outputs": [],
   "source": [
    "from agents import Agent, Runner, function_tool, ItemHelpers\n",
    "\n",
    "@function_tool\n",
    "def get_weather(city: str):\n",
    "    \"\"\"Get weather for a city\"\"\"\n",
    "    return \"30 degrees\"\n",
    "\n",
    "\n",
    "agent = Agent(name=\"Assistant Agent\",\n",
    "instructions=\"You are a helpful assistant. Use tools when needed to answer questions\",\n",
    "tools=[get_weather])\n",
    "\n",
    "stream = Runner.run_streamed(agent, \"Hello how are you? What is the weather in the captial of Spain?\") # while True loop\n",
    "\n",
    "message = \"\"\n",
    "args = \"\"\n",
    "\n",
    "async for event in stream.stream_events():\n",
    "    if event.type == \"raw_response_event\":\n",
    "        event_type = event.data.type\n",
    "        if event_type == \"response.output_text.delta\": # 실제로 쓰여지는 문자일 때 발생하는 이벤트\n",
    "            message += event.data.delta\n",
    "            print(message)\n",
    "        elif event_type == \"response.function_call_arguments.delta\":\n",
    "            args += event.data.delta\n",
    "            print(args)\n",
    "        elif event_type == \"response.completed\":\n",
    "            message = \"\"\n",
    "            args = \"\"\n",
    "\n",
    "    print('='*20)"
   ]
  }
 ],
 "metadata": {
  "kernelspec": {
   "display_name": ".venv",
   "language": "python",
   "name": "python3"
  },
  "language_info": {
   "codemirror_mode": {
    "name": "ipython",
    "version": 3
   },
   "file_extension": ".py",
   "mimetype": "text/x-python",
   "name": "python",
   "nbconvert_exporter": "python",
   "pygments_lexer": "ipython3",
   "version": "3.12.10"
  }
 },
 "nbformat": 4,
 "nbformat_minor": 5
}
