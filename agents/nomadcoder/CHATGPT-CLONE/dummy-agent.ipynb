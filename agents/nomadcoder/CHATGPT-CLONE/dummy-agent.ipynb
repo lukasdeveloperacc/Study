{
 "cells": [
  {
   "cell_type": "code",
   "execution_count": null,
   "id": "260559b7",
   "metadata": {},
   "outputs": [
    {
     "name": "stdout",
     "output_type": "stream",
     "text": [
      "Hello! I'm doing well, thank you for asking. The weather in Madrid, the capital of Spain, is currently 30 degrees Celsius. If you need more details or information about Madrid, just let me know!\n"
     ]
    }
   ],
   "source": [
    "from agents import Agent, Runner, function_tool\n",
    "\n",
    "@function_tool\n",
    "def get_weather(city: str):\n",
    "    \"\"\"Get weather for a city\"\"\"\n",
    "    return \"30 degrees\"\n",
    "\n",
    "\n",
    "agent = Agent(name=\"Assistant Agent\",\n",
    "instructions=\"You are a helpful assistant. Use tools when needed to answer questions\",\n",
    "tools=[get_weather])\n",
    "\n",
    "stream = Runner.run_streamed(agent, \"Hello how are you? What is the weather in the captial of Spain?\") # while True loop\n",
    "\n",
    "async for event in stream.stream_events():\n",
    "    print(event)\n",
    "    print('='*20)"
   ]
  },
  {
   "cell_type": "code",
   "execution_count": null,
   "id": "708a6bb3",
   "metadata": {},
   "outputs": [],
   "source": []
  }
 ],
 "metadata": {
  "kernelspec": {
   "display_name": ".venv",
   "language": "python",
   "name": "python3"
  },
  "language_info": {
   "codemirror_mode": {
    "name": "ipython",
    "version": 3
   },
   "file_extension": ".py",
   "mimetype": "text/x-python",
   "name": "python",
   "nbconvert_exporter": "python",
   "pygments_lexer": "ipython3",
   "version": "3.12.10"
  }
 },
 "nbformat": 4,
 "nbformat_minor": 5
}
