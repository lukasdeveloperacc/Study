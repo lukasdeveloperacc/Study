{
 "cells": [
  {
   "cell_type": "code",
   "execution_count": 141,
   "id": "001083af",
   "metadata": {},
   "outputs": [],
   "source": [
    "from langgraph.graph import StateGraph, START, END \n",
    "from typing_extensions import TypedDict\n",
    "# from typing import Literal"
   ]
  },
  {
   "cell_type": "code",
   "execution_count": 148,
   "id": "8165f09a",
   "metadata": {},
   "outputs": [],
   "source": [
    "class State(TypedDict):\n",
    "    seed: int\n",
    "    \n",
    "graph_builder = StateGraph(State)"
   ]
  },
  {
   "cell_type": "code",
   "execution_count": 149,
   "id": "09d453c9",
   "metadata": {},
   "outputs": [],
   "source": [
    "def node_one(state: State):\n",
    "    print(\"node_one -> \", state)\n",
    "    return {}\n",
    "    \n",
    "def node_two(state: State):\n",
    "    print(\"node_two -> \", state)\n",
    "    return {}\n",
    "\n",
    "def node_three(state: State):\n",
    "    print(\"node_three -> \", state)\n",
    "    return {}\n",
    "    \n",
    "def node_four(state: State):\n",
    "    print(\"node_four -> \", state)\n",
    "    return {}"
   ]
  },
  {
   "cell_type": "code",
   "execution_count": 150,
   "id": "e5bfc46d",
   "metadata": {},
   "outputs": [
    {
     "data": {
      "text/plain": [
       "<langgraph.graph.state.StateGraph at 0x11951b250>"
      ]
     },
     "execution_count": 150,
     "metadata": {},
     "output_type": "execute_result"
    }
   ],
   "source": [
    "graph_builder.add_node(\"node_one\", node_one)\n",
    "graph_builder.add_node(\"node_two\", node_two)\n",
    "graph_builder.add_node(\"node_three\", node_three)\n",
    "graph_builder.add_node(\"node_four\", node_four)\n",
    "\n",
    "# def decide_path(state: State) -> Literal[\"node_three\", \"node_four\"]:\n",
    "#     if state[\"seed\"] % 2 == 0:\n",
    "#         return \"node_three\" # by default, node_three connects to END\n",
    "#     else:\n",
    "#         return \"node_four\"\n",
    "\n",
    "def decide_path(state: State):\n",
    "    return state[\"seed\"] % 2 == 0\n",
    "    \n",
    "graph_builder.add_conditional_edges(START, decide_path, {True: \"node_one\", False: \"node_two\", \"hello\": END})\n",
    "graph_builder.add_edge(\"node_one\", \"node_two\") \n",
    "# graph_builder.add_conditional_edges(\"node_two\", decide_path)\n",
    "graph_builder.add_conditional_edges(\"node_two\", decide_path, {True: \"node_three\", False: \"node_four\", \"hello\": END})\n",
    "graph_builder.add_edge(\"node_three\", END)\n",
    "graph_builder.add_edge(\"node_four\", END)"
   ]
  },
  {
   "cell_type": "code",
   "execution_count": 151,
   "id": "e07ea81d",
   "metadata": {},
   "outputs": [
    {
     "name": "stdout",
     "output_type": "stream",
     "text": [
      "                                    +-----------+                                \n",
      "                                    | __start__ |....                            \n",
      "                                  ..+-----------+    ......                      \n",
      "                             .....         .               ......                \n",
      "                          ...              .                     ......          \n",
      "                       ...                 .                           ......    \n",
      "             +----------+                  .                                 ....\n",
      "             | node_one |               ...                                     .\n",
      "             +----------+              .                                        .\n",
      "                        ***         ...                                         .\n",
      "                           *       .                                            .\n",
      "                            **   ..                                             .\n",
      "                         +----------+                                           .\n",
      "                         | node_two |.                                          .\n",
      "                      ...+----------+ ....                                      .\n",
      "                 .....         .          ....                                  .\n",
      "              ...              .              ....                              .\n",
      "           ...                 .                  ....                          .\n",
      "+-----------+           +------------+                ...                    ....\n",
      "| node_four |***        | node_three |               ..                ......    \n",
      "+-----------+   ******  +------------+             ..            ......          \n",
      "                      *******       ***          ..       .......                \n",
      "                             ******    *       ..   ......                       \n",
      "                                   **** **   .. ....                             \n",
      "                                      +---------+                                \n",
      "                                      | __end__ |                                \n",
      "                                      +---------+                                \n"
     ]
    }
   ],
   "source": [
    "graph = graph_builder.compile()\n",
    "print(graph.get_graph().draw_ascii())"
   ]
  },
  {
   "cell_type": "code",
   "execution_count": 154,
   "id": "dadb93af",
   "metadata": {},
   "outputs": [
    {
     "name": "stdout",
     "output_type": "stream",
     "text": [
      "node_two ->  {'seed': 3}\n",
      "node_four ->  {'seed': 3}\n",
      "{'seed': 3}\n"
     ]
    }
   ],
   "source": [
    "print(graph.invoke({\"seed\": 3}))\n"
   ]
  },
  {
   "cell_type": "code",
   "execution_count": null,
   "id": "bff99017",
   "metadata": {},
   "outputs": [],
   "source": []
  }
 ],
 "metadata": {
  "kernelspec": {
   "display_name": ".venv",
   "language": "python",
   "name": "python3"
  },
  "language_info": {
   "codemirror_mode": {
    "name": "ipython",
    "version": 3
   },
   "file_extension": ".py",
   "mimetype": "text/x-python",
   "name": "python",
   "nbconvert_exporter": "python",
   "pygments_lexer": "ipython3",
   "version": "3.13.5"
  }
 },
 "nbformat": 4,
 "nbformat_minor": 5
}
