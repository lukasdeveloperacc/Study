{
 "cells": [
  {
   "cell_type": "code",
   "execution_count": 19,
   "id": "001083af",
   "metadata": {},
   "outputs": [],
   "source": [
    "from langgraph.graph import StateGraph, START, END \n",
    "from typing_extensions import TypedDict"
   ]
  },
  {
   "cell_type": "code",
   "execution_count": null,
   "id": "8165f09a",
   "metadata": {},
   "outputs": [],
   "source": [
    "class PrivateState(TypedDict):\n",
    "    a: int\n",
    "    b: int\n",
    "    \n",
    "class InputState(TypedDict):\n",
    "    hello: str\n",
    "    \n",
    "class OutputState(TypedDict):\n",
    "    bye: str\n",
    "    \n",
    "class MegaPrivate(TypedDict):\n",
    "    secret: bool\n",
    "    \n",
    "graph_builder = StateGraph(PrivateState, input_schema=InputState, output_schema=OutputState)"
   ]
  },
  {
   "cell_type": "code",
   "execution_count": null,
   "id": "09d453c9",
   "metadata": {},
   "outputs": [],
   "source": [
    "def node_one(state: InputState) -> InputState:\n",
    "    \"\"\"Receive InputState\"\"\"\n",
    "    print(\"node one -> \", state)\n",
    "    return {\"hello\": \"world\"}\n",
    "    \n",
    "def node_two(state: PrivateState) -> PrivateState:\n",
    "    print(\"node two -> \", state)\n",
    "    return {\"a\": 1 }\n",
    "    \n",
    "def node_three(state: PrivateState) -> PrivateState:\n",
    "    print(\"node three -> \", state)\n",
    "    return {\"b\": 1}\n",
    "\n",
    "def node_four(state: PrivateState) -> OutputState:\n",
    "    \"\"\"Receive PrivateState\"\"\"\n",
    "    print(\"node four -> \", state)\n",
    "    return {\"bye\": \"world\"}\n",
    "\n",
    "def node_five(state: OutputState) -> MegaPrivate:\n",
    "    print(\"node five -> \", state)\n",
    "    return {\"secret\": True}\n",
    "\n",
    "def node_six(state: MegaPrivate) -> OutputState:\n",
    "    print(\"node six -> \", state)\n",
    "    "
   ]
  },
  {
   "cell_type": "code",
   "execution_count": 32,
   "id": "e5bfc46d",
   "metadata": {},
   "outputs": [
    {
     "data": {
      "text/plain": [
       "<langgraph.graph.state.StateGraph at 0x118e8f750>"
      ]
     },
     "execution_count": 32,
     "metadata": {},
     "output_type": "execute_result"
    }
   ],
   "source": [
    "graph_builder.add_node(\"node_one\", node_one)\n",
    "graph_builder.add_node(\"node_two\", node_two)\n",
    "graph_builder.add_node(\"node_three\", node_three)\n",
    "graph_builder.add_node(\"node_four\", node_four)\n",
    "\n",
    "graph_builder.add_edge(START, \"node_one\")\n",
    "graph_builder.add_edge(\"node_one\", \"node_two\")\n",
    "graph_builder.add_edge(\"node_two\", \"node_three\")\n",
    "graph_builder.add_edge(\"node_three\", \"node_four\")\n",
    "graph_builder.add_edge(\"node_four\", END)"
   ]
  },
  {
   "cell_type": "code",
   "execution_count": 35,
   "id": "e07ea81d",
   "metadata": {},
   "outputs": [
    {
     "name": "stdout",
     "output_type": "stream",
     "text": [
      "+-----------+  \n",
      "| __start__ |  \n",
      "+-----------+  \n",
      "       *       \n",
      "       *       \n",
      "       *       \n",
      " +----------+  \n",
      " | node_one |  \n",
      " +----------+  \n",
      "       *       \n",
      "       *       \n",
      "       *       \n",
      " +----------+  \n",
      " | node_two |  \n",
      " +----------+  \n",
      "       *       \n",
      "       *       \n",
      "       *       \n",
      "+------------+ \n",
      "| node_three | \n",
      "+------------+ \n",
      "       *       \n",
      "       *       \n",
      "       *       \n",
      "+-----------+  \n",
      "| node_four |  \n",
      "+-----------+  \n",
      "       *       \n",
      "       *       \n",
      "       *       \n",
      "  +---------+  \n",
      "  | __end__ |  \n",
      "  +---------+  \n"
     ]
    }
   ],
   "source": [
    "graph = graph_builder.compile()\n",
    "print(graph.get_graph().draw_ascii())"
   ]
  },
  {
   "cell_type": "code",
   "execution_count": 36,
   "id": "dadb93af",
   "metadata": {},
   "outputs": [
    {
     "name": "stdout",
     "output_type": "stream",
     "text": [
      "node one ->  {'hello': 'world'}\n",
      "node two ->  {}\n",
      "node three ->  {'a': 1}\n",
      "node four ->  {'a': 1, 'b': 1}\n",
      "Result =  {'bye': 'world'}\n"
     ]
    }
   ],
   "source": [
    "result = graph.invoke({\"hello\": \"world\"})\n",
    "print(\"Result = \", result)"
   ]
  },
  {
   "cell_type": "code",
   "execution_count": null,
   "id": "bff99017",
   "metadata": {},
   "outputs": [],
   "source": []
  }
 ],
 "metadata": {
  "kernelspec": {
   "display_name": ".venv",
   "language": "python",
   "name": "python3"
  },
  "language_info": {
   "codemirror_mode": {
    "name": "ipython",
    "version": 3
   },
   "file_extension": ".py",
   "mimetype": "text/x-python",
   "name": "python",
   "nbconvert_exporter": "python",
   "pygments_lexer": "ipython3",
   "version": "3.13.5"
  }
 },
 "nbformat": 4,
 "nbformat_minor": 5
}
