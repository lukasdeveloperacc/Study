{
 "cells": [
  {
   "cell_type": "code",
   "execution_count": 212,
   "id": "001083af",
   "metadata": {},
   "outputs": [],
   "source": [
    "from langgraph.graph import StateGraph, START, END \n",
    "from typing_extensions import TypedDict\n",
    "from langgraph.types import Command"
   ]
  },
  {
   "cell_type": "code",
   "execution_count": 213,
   "id": "8165f09a",
   "metadata": {},
   "outputs": [],
   "source": [
    "class State(TypedDict):\n",
    "    transfer_reason: str\n",
    "    \n",
    "    \n",
    "graph_builder = StateGraph(State)"
   ]
  },
  {
   "cell_type": "code",
   "execution_count": null,
   "id": "09d453c9",
   "metadata": {},
   "outputs": [],
   "source": [
    "from typing import Literal\n",
    "\n",
    "\n",
    "def triage_node(state: State) -> Command[Literal[\"account_support\", \"tech_support\"]]:\n",
    "    # Jump to another node or graph\n",
    "    # When you update state in the same time, you can use command, not conditional edge\n",
    "    return Command(goto=\"account_support\", update={\"transfer_reason\": \"The user wants to change password.\"})\n",
    "    \n",
    "def tech_support(state: State):\n",
    "    return {}\n",
    "\n",
    "def account_support(state: State):\n",
    "    print(\"account support running ...\")\n",
    "    return {}\n"
   ]
  },
  {
   "cell_type": "code",
   "execution_count": 215,
   "id": "e5bfc46d",
   "metadata": {},
   "outputs": [
    {
     "data": {
      "text/plain": [
       "<langgraph.graph.state.StateGraph at 0x119792210>"
      ]
     },
     "execution_count": 215,
     "metadata": {},
     "output_type": "execute_result"
    }
   ],
   "source": [
    "graph_builder.add_node(\"triage_node\", triage_node)\n",
    "graph_builder.add_node(\"tech_support\", tech_support)\n",
    "graph_builder.add_node(\"account_support\", account_support)\n",
    "\n",
    "graph_builder.add_edge(START, \"triage_node\")\n",
    "graph_builder.add_edge(\"tech_support\", END)\n",
    "graph_builder.add_edge(\"account_support\", END)"
   ]
  },
  {
   "cell_type": "code",
   "execution_count": 217,
   "id": "e07ea81d",
   "metadata": {},
   "outputs": [
    {
     "name": "stdout",
     "output_type": "stream",
     "text": [
      "                 +-----------+                  \n",
      "                 | __start__ |                  \n",
      "                 +-----------+                  \n",
      "                        *                       \n",
      "                        *                       \n",
      "                        *                       \n",
      "                +-------------+                 \n",
      "                | triage_node |                 \n",
      "                +-------------+                 \n",
      "                ..            ...               \n",
      "              ..                 ..             \n",
      "            ..                     ..           \n",
      "+-----------------+           +--------------+  \n",
      "| account_support |           | tech_support |  \n",
      "+-----------------+           +--------------+  \n",
      "                **            ***               \n",
      "                  **        **                  \n",
      "                    **    **                    \n",
      "                  +---------+                   \n",
      "                  | __end__ |                   \n",
      "                  +---------+                   \n"
     ]
    }
   ],
   "source": [
    "graph = graph_builder.compile()\n",
    "# graph\n",
    "print(graph.get_graph().draw_ascii())"
   ]
  },
  {
   "cell_type": "code",
   "execution_count": 209,
   "id": "dadb93af",
   "metadata": {},
   "outputs": [
    {
     "name": "stdout",
     "output_type": "stream",
     "text": [
      "account support running ...\n",
      "{'transfer_reason': 'The user wants to change password.'}\n"
     ]
    }
   ],
   "source": [
    "print(graph.invoke({}))\n"
   ]
  },
  {
   "cell_type": "code",
   "execution_count": null,
   "id": "bff99017",
   "metadata": {},
   "outputs": [],
   "source": []
  }
 ],
 "metadata": {
  "kernelspec": {
   "display_name": ".venv",
   "language": "python",
   "name": "python3"
  },
  "language_info": {
   "codemirror_mode": {
    "name": "ipython",
    "version": 3
   },
   "file_extension": ".py",
   "mimetype": "text/x-python",
   "name": "python",
   "nbconvert_exporter": "python",
   "pygments_lexer": "ipython3",
   "version": "3.13.5"
  }
 },
 "nbformat": 4,
 "nbformat_minor": 5
}
