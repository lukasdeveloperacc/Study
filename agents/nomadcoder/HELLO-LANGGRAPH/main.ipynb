{
 "cells": [
  {
   "cell_type": "code",
   "execution_count": 179,
   "id": "001083af",
   "metadata": {},
   "outputs": [],
   "source": [
    "from langgraph.graph import StateGraph, START, END \n",
    "from typing_extensions import TypedDict, Annotated\n",
    "from typing import Union\n",
    "from langgraph.types import Send\n",
    "\n",
    "import operator"
   ]
  },
  {
   "cell_type": "code",
   "execution_count": 180,
   "id": "8165f09a",
   "metadata": {},
   "outputs": [],
   "source": [
    "class State(TypedDict):\n",
    "    words: list[str]\n",
    "    output: Annotated[list[dict[str, Union[str, int]]], operator.add] # For protecting overwrite result in the node_two\n",
    "    \n",
    "    \n",
    "graph_builder = StateGraph(State)"
   ]
  },
  {
   "cell_type": "code",
   "execution_count": 181,
   "id": "09d453c9",
   "metadata": {},
   "outputs": [],
   "source": [
    "def node_one(state: State):\n",
    "    print(f\"I want to count {len(state[\"words\"])} workds in my state.\")\n",
    "    return {}\n",
    "    \n",
    "def node_two(word: str):\n",
    "    count = len(word)\n",
    "    return {\"output\": [{\"word\": word, \"letters\": count}]}\n"
   ]
  },
  {
   "cell_type": "code",
   "execution_count": 182,
   "id": "e5bfc46d",
   "metadata": {},
   "outputs": [
    {
     "data": {
      "text/plain": [
       "<langgraph.graph.state.StateGraph at 0x119790f50>"
      ]
     },
     "execution_count": 182,
     "metadata": {},
     "output_type": "execute_result"
    }
   ],
   "source": [
    "graph_builder.add_node(\"node_one\", node_one)\n",
    "graph_builder.add_node(\"node_two\", node_two)\n",
    "\n",
    "def dispatcher(state: State):\n",
    "    \"Will be making a bunch of node_two\"\n",
    "    return [Send(\"node_two\", word) for word in state[\"words\"]]\n",
    "    \n",
    "graph_builder.add_edge(START, \"node_one\")\n",
    "graph_builder.add_conditional_edges(\"node_one\", dispatcher)\n",
    "graph_builder.add_edge(\"node_two\", END)"
   ]
  },
  {
   "cell_type": "code",
   "execution_count": 183,
   "id": "e07ea81d",
   "metadata": {},
   "outputs": [
    {
     "name": "stdout",
     "output_type": "stream",
     "text": [
      "+-----------+  \n",
      "| __start__ |  \n",
      "+-----------+  \n",
      "      *        \n",
      "      *        \n",
      "      *        \n",
      "+----------+   \n",
      "| node_one |   \n",
      "+----------+   \n",
      "      *        \n",
      "      *        \n",
      "      *        \n",
      " +---------+   \n",
      " | __end__ |   \n",
      " +---------+   \n"
     ]
    }
   ],
   "source": [
    "graph = graph_builder.compile()\n",
    "print(graph.get_graph().draw_ascii())"
   ]
  },
  {
   "cell_type": "code",
   "execution_count": 184,
   "id": "dadb93af",
   "metadata": {},
   "outputs": [
    {
     "name": "stdout",
     "output_type": "stream",
     "text": [
      "I want to count 6 workds in my state.\n",
      "{'words': ['hello', 'world', 'how', 'are', 'you', 'doing'], 'output': [{'word': 'hello', 'letters': 5}, {'word': 'world', 'letters': 5}, {'word': 'how', 'letters': 3}, {'word': 'are', 'letters': 3}, {'word': 'you', 'letters': 3}, {'word': 'doing', 'letters': 5}]}\n"
     ]
    }
   ],
   "source": [
    "print(graph.invoke({\"words\": [\"hello\", \"world\", \"how\", \"are\", \"you\", \"doing\"]}))\n"
   ]
  },
  {
   "cell_type": "code",
   "execution_count": null,
   "id": "bff99017",
   "metadata": {},
   "outputs": [],
   "source": []
  }
 ],
 "metadata": {
  "kernelspec": {
   "display_name": ".venv",
   "language": "python",
   "name": "python3"
  },
  "language_info": {
   "codemirror_mode": {
    "name": "ipython",
    "version": 3
   },
   "file_extension": ".py",
   "mimetype": "text/x-python",
   "name": "python",
   "nbconvert_exporter": "python",
   "pygments_lexer": "ipython3",
   "version": "3.13.5"
  }
 },
 "nbformat": 4,
 "nbformat_minor": 5
}
