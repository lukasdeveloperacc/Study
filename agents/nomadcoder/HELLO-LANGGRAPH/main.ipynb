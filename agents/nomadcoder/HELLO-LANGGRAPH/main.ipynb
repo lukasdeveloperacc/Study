{
 "cells": [
  {
   "cell_type": "code",
   "execution_count": 108,
   "id": "001083af",
   "metadata": {},
   "outputs": [],
   "source": [
    "from langgraph.graph import StateGraph, START, END \n",
    "from typing_extensions import TypedDict\n",
    "from langgraph.types import CachePolicy\n",
    "from langgraph.cache.memory import InMemoryCache\n",
    "from datetime import datetime"
   ]
  },
  {
   "cell_type": "code",
   "execution_count": 116,
   "id": "8165f09a",
   "metadata": {},
   "outputs": [],
   "source": [
    "class State(TypedDict):\n",
    "    time: str\n",
    "    \n",
    "graph_builder = StateGraph(State)"
   ]
  },
  {
   "cell_type": "code",
   "execution_count": 117,
   "id": "09d453c9",
   "metadata": {},
   "outputs": [],
   "source": [
    "def node_one(state: State):\n",
    "    return {}\n",
    "    \n",
    "def node_two(state: State):\n",
    "    return {\"time\": f\"{datetime.now()}\"}\n",
    "\n",
    "def node_three(state: State):\n",
    "    return {}\n",
    "    "
   ]
  },
  {
   "cell_type": "code",
   "execution_count": 118,
   "id": "e5bfc46d",
   "metadata": {},
   "outputs": [
    {
     "data": {
      "text/plain": [
       "<langgraph.graph.state.StateGraph at 0x119790910>"
      ]
     },
     "execution_count": 118,
     "metadata": {},
     "output_type": "execute_result"
    }
   ],
   "source": [
    "graph_builder.add_node(\"node_one\", node_one)\n",
    "graph_builder.add_node(\"node_two\", node_two, cache_policy=CachePolicy(ttl=20))\n",
    "graph_builder.add_node(\"node_three\", node_three)\n",
    "\n",
    "graph_builder.add_edge(START, \"node_one\")\n",
    "graph_builder.add_edge(\"node_one\", \"node_two\")\n",
    "graph_builder.add_edge(\"node_two\", \"node_three\")\n",
    "graph_builder.add_edge(\"node_three\", END)"
   ]
  },
  {
   "cell_type": "code",
   "execution_count": 119,
   "id": "e07ea81d",
   "metadata": {},
   "outputs": [
    {
     "name": "stdout",
     "output_type": "stream",
     "text": [
      "+-----------+  \n",
      "| __start__ |  \n",
      "+-----------+  \n",
      "       *       \n",
      "       *       \n",
      "       *       \n",
      " +----------+  \n",
      " | node_one |  \n",
      " +----------+  \n",
      "       *       \n",
      "       *       \n",
      "       *       \n",
      " +----------+  \n",
      " | node_two |  \n",
      " +----------+  \n",
      "       *       \n",
      "       *       \n",
      "       *       \n",
      "+------------+ \n",
      "| node_three | \n",
      "+------------+ \n",
      "       *       \n",
      "       *       \n",
      "       *       \n",
      "  +---------+  \n",
      "  | __end__ |  \n",
      "  +---------+  \n"
     ]
    }
   ],
   "source": [
    "graph = graph_builder.compile(cache=InMemoryCache())\n",
    "print(graph.get_graph().draw_ascii())"
   ]
  },
  {
   "cell_type": "code",
   "execution_count": 120,
   "id": "dadb93af",
   "metadata": {},
   "outputs": [
    {
     "name": "stdout",
     "output_type": "stream",
     "text": [
      "{'time': '2025-09-28 19:44:57.443243'}\n",
      "{'time': '2025-09-28 19:44:57.443243'}\n",
      "{'time': '2025-09-28 19:44:57.443243'}\n",
      "{'time': '2025-09-28 19:44:57.443243'}\n",
      "{'time': '2025-09-28 19:45:17.477594'}\n",
      "{'time': '2025-09-28 19:45:17.477594'}\n",
      "{'time': '2025-09-28 19:45:17.477594'}\n"
     ]
    }
   ],
   "source": [
    "import time\n",
    "print(graph.invoke({}))\n",
    "time.sleep(5)\n",
    "print(graph.invoke({}))\n",
    "time.sleep(5)\n",
    "print(graph.invoke({}))\n",
    "time.sleep(5)\n",
    "print(graph.invoke({}))\n",
    "time.sleep(5)\n",
    "print(graph.invoke({}))\n",
    "time.sleep(5)\n",
    "print(graph.invoke({}))\n",
    "time.sleep(5)\n",
    "print(graph.invoke({}))\n"
   ]
  },
  {
   "cell_type": "code",
   "execution_count": null,
   "id": "bff99017",
   "metadata": {},
   "outputs": [],
   "source": []
  }
 ],
 "metadata": {
  "kernelspec": {
   "display_name": ".venv",
   "language": "python",
   "name": "python3"
  },
  "language_info": {
   "codemirror_mode": {
    "name": "ipython",
    "version": 3
   },
   "file_extension": ".py",
   "mimetype": "text/x-python",
   "name": "python",
   "nbconvert_exporter": "python",
   "pygments_lexer": "ipython3",
   "version": "3.13.5"
  }
 },
 "nbformat": 4,
 "nbformat_minor": 5
}
