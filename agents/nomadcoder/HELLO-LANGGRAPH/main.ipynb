{
 "cells": [
  {
   "cell_type": "code",
   "execution_count": 1,
   "id": "001083af",
   "metadata": {},
   "outputs": [],
   "source": [
    "from langgraph.graph import StateGraph, START, END \n",
    "from typing_extensions import TypedDict"
   ]
  },
  {
   "cell_type": "code",
   "execution_count": 14,
   "id": "8165f09a",
   "metadata": {},
   "outputs": [],
   "source": [
    "class State(TypedDict):\n",
    "    hello: str\n",
    "    \n",
    "graph_builder = StateGraph(State)"
   ]
  },
  {
   "cell_type": "code",
   "execution_count": null,
   "id": "09d453c9",
   "metadata": {},
   "outputs": [],
   "source": [
    "def node_one(state :State) -> State:\n",
    "    print(\"node one \", state)\n",
    "    return {\"hello\": \"from node one.\"}\n",
    "    \n",
    "def node_two(state :State) -> State:\n",
    "    print(\"node two \", state)\n",
    "    return {\"hello\": \"from node two.\"}\n",
    "    \n",
    "def node_three(state :State) -> State:\n",
    "    print(\"node three \", state)\n",
    "    return {\"hello\": \"from node three.\"}"
   ]
  },
  {
   "cell_type": "code",
   "execution_count": 16,
   "id": "e5bfc46d",
   "metadata": {},
   "outputs": [
    {
     "data": {
      "text/plain": [
       "<langgraph.graph.state.StateGraph at 0x10fc74410>"
      ]
     },
     "execution_count": 16,
     "metadata": {},
     "output_type": "execute_result"
    }
   ],
   "source": [
    "graph_builder.add_node(\"node_one\", node_one)\n",
    "graph_builder.add_node(\"node_two\", node_two)\n",
    "graph_builder.add_node(\"node_three\", node_three)\n",
    "\n",
    "graph_builder.add_edge(START, \"node_one\")\n",
    "graph_builder.add_edge(\"node_one\", \"node_two\")\n",
    "graph_builder.add_edge(\"node_two\", \"node_three\")\n",
    "graph_builder.add_edge(\"node_three\", END)"
   ]
  },
  {
   "cell_type": "code",
   "execution_count": 17,
   "id": "e07ea81d",
   "metadata": {},
   "outputs": [
    {
     "data": {
      "image/png": "[encoded data removed]",
      "text/plain": [
       "<langgraph.graph.state.CompiledStateGraph object at 0x10fc75a90>"
      ]
     },
     "execution_count": 17,
     "metadata": {},
     "output_type": "execute_result"
    }
   ],
   "source": [
    "graph = graph_builder.compile()\n",
    "graph"
   ]
  },
  {
   "cell_type": "code",
   "execution_count": 18,
   "id": "dadb93af",
   "metadata": {},
   "outputs": [
    {
     "name": "stdout",
     "output_type": "stream",
     "text": [
      "{'hello': 'world'}\n",
      "node one\n",
      "node two\n",
      "node three\n",
      "Result =  {'hello': 'world'}\n"
     ]
    }
   ],
   "source": [
    "result = graph.invoke({\"hello\": \"world\"})\n",
    "print(\"Result = \", result)"
   ]
  },
  {
   "cell_type": "code",
   "execution_count": null,
   "id": "bff99017",
   "metadata": {},
   "outputs": [],
   "source": []
  }
 ],
 "metadata": {
  "kernelspec": {
   "display_name": ".venv",
   "language": "python",
   "name": "python3"
  },
  "language_info": {
   "codemirror_mode": {
    "name": "ipython",
    "version": 3
   },
   "file_extension": ".py",
   "mimetype": "text/x-python",
   "name": "python",
   "nbconvert_exporter": "python",
   "pygments_lexer": "ipython3",
   "version": "3.13.5"
  }
 },
 "nbformat": 4,
 "nbformat_minor": 5
}
