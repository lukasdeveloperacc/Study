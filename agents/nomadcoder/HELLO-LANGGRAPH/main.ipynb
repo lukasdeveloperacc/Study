{
 "cells": [
  {
   "cell_type": "code",
   "execution_count": 1,
   "id": "001083af",
   "metadata": {},
   "outputs": [],
   "source": [
    "from langgraph.graph import StateGraph, START, END \n",
    "from typing_extensions import TypedDict"
   ]
  },
  {
   "cell_type": "code",
   "execution_count": 2,
   "id": "8165f09a",
   "metadata": {},
   "outputs": [],
   "source": [
    "class State(TypedDict):\n",
    "    hello: str\n",
    "    \n",
    "graph_builder = StateGraph(State)"
   ]
  },
  {
   "cell_type": "code",
   "execution_count": null,
   "id": "09d453c9",
   "metadata": {},
   "outputs": [],
   "source": [
    "def node_one(state :State) -> State:\n",
    "    print(\"node one\")\n",
    "    \n",
    "def node_two(state :State) -> State:\n",
    "    print(\"node two\")\n",
    "    \n",
    "def node_three(state :State) -> State:\n",
    "    print(\"node three\")"
   ]
  },
  {
   "cell_type": "code",
   "execution_count": null,
   "id": "e5bfc46d",
   "metadata": {},
   "outputs": [],
   "source": [
    "graph_builder.add_node(\"node_one\", node_one)\n",
    "graph_builder.add_node(\"node_two\", node_two)\n",
    "graph_builder.add_node(\"node_three\", node_three)\n",
    "\n",
    "graph_builder.add_edge(START, \"node_one\")\n",
    "graph_builder.add_edge(\"node_one\", \"node_two\")\n",
    "graph_builder.add_edge(\"node_two\", \"node_three\")\n",
    "graph_builder.add_edge(\"node_three\", END)"
   ]
  }
 ],
 "metadata": {
  "kernelspec": {
   "display_name": ".venv",
   "language": "python",
   "name": "python3"
  },
  "language_info": {
   "codemirror_mode": {
    "name": "ipython",
    "version": 3
   },
   "file_extension": ".py",
   "mimetype": "text/x-python",
   "name": "python",
   "nbconvert_exporter": "python",
   "pygments_lexer": "ipython3",
   "version": "3.13.5"
  }
 },
 "nbformat": 4,
 "nbformat_minor": 5
}
