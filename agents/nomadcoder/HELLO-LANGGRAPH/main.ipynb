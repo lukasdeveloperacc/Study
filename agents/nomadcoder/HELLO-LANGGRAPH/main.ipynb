{
 "cells": [
  {
   "cell_type": "code",
   "execution_count": 330,
   "id": "001083af",
   "metadata": {},
   "outputs": [],
   "source": [
    "from langgraph.graph import StateGraph, START\n",
    "from langchain.chat_models import init_chat_model\n",
    "from langgraph.graph.message import MessagesState\n",
    "from langgraph.prebuilt import ToolNode, tools_condition\n",
    "from langchain_core.tools import tool\n",
    "from langgraph.checkpoint.sqlite import SqliteSaver\n",
    "from langgraph.types import interrupt, Command\n",
    "\n",
    "import sqlite3\n",
    "\n",
    "llm = init_chat_model(\"openai:gpt-4o-mini\")\n",
    "\n",
    "conn = sqlite3.connect(\"memory.db\", check_same_thread=False)"
   ]
  },
  {
   "cell_type": "code",
   "execution_count": null,
   "id": "8165f09a",
   "metadata": {},
   "outputs": [],
   "source": [
    "class State(MessagesState):\n",
    "    pass \n",
    "    \n",
    "    \n",
    "graph_builder = StateGraph(State)\n",
    "\n",
    "config = {\n",
    "    \"configurable\": {\n",
    "        \"thread_id\": \"11\",\n",
    "    },\n",
    "}"
   ]
  },
  {
   "cell_type": "code",
   "execution_count": null,
   "id": "09d453c9",
   "metadata": {},
   "outputs": [],
   "source": [
    "@tool\n",
    "def get_human_feedback(poem: str):\n",
    "    \"\"\"Asks the user for feedback on the poem.\n",
    "    Use this before returning the final response.\"\"\"\n",
    "    feedback = interrupt(f\"Here is the poem, tell me what you think of it.\\n{poem}\")\n",
    "    \n",
    "    \n",
    "    return feedback # from Command's resume (same data type)\n",
    "\n",
    "llm_with_tools = llm.bind_tools(tools=[get_human_feedback])\n",
    "\n",
    "def chatbot(state: State):\n",
    "    response = llm_with_tools.invoke(f\"\"\"You are an expert in making poems.\n",
    "Use the `get_human_feedback` tool to get feedback on your poem.\n",
    "Only after you receive positive feedback you can return the final poem.\n",
    "ALWAYS ASK FOR FEEDBACK FIRST.\n",
    "Here is the conversation history:\n",
    "{state[\"messages\"]}\"\"\")\n",
    "    return {\n",
    "        \"messages\": [response]\n",
    "    }"
   ]
  },
  {
   "cell_type": "code",
   "execution_count": 323,
   "id": "e5bfc46d",
   "metadata": {},
   "outputs": [
    {
     "data": {
      "text/plain": [
       "<langgraph.graph.state.StateGraph at 0x11c686ad0>"
      ]
     },
     "execution_count": 323,
     "metadata": {},
     "output_type": "execute_result"
    }
   ],
   "source": [
    "tool_node = ToolNode(tools=[get_human_feedback])\n",
    "\n",
    "graph_builder.add_node(\"chatbot\", chatbot)\n",
    "graph_builder.add_node(\"tools\", tool_node)\n",
    "\n",
    "graph_builder.add_edge(START, \"chatbot\")\n",
    "graph_builder.add_conditional_edges(\"chatbot\", tools_condition) # When it's done, it will go to tools or END\n",
    "graph_builder.add_edge(\"tools\", \"chatbot\")"
   ]
  },
  {
   "cell_type": "code",
   "execution_count": 324,
   "id": "e07ea81d",
   "metadata": {},
   "outputs": [
    {
     "data": {
      "image/png": "[encoded data removed]",
      "text/plain": [
       "<langgraph.graph.state.CompiledStateGraph object at 0x11c684550>"
      ]
     },
     "execution_count": 324,
     "metadata": {},
     "output_type": "execute_result"
    }
   ],
   "source": [
    "graph = graph_builder.compile(checkpointer=SqliteSaver(conn))\n",
    "graph\n",
    "# print(graph.get_graph().draw_ascii())"
   ]
  },
  {
   "cell_type": "code",
   "execution_count": 325,
   "id": "4b7a3c37",
   "metadata": {},
   "outputs": [],
   "source": [
    "result = graph.invoke({\"messages\": [{\"role\": \"user\", \"content\": \"Please make a poem about Python code.\"}]}, config=config)"
   ]
  },
  {
   "cell_type": "code",
   "execution_count": 327,
   "id": "29c01e84",
   "metadata": {},
   "outputs": [
    {
     "name": "stdout",
     "output_type": "stream",
     "text": [
      "================================\u001b[1m Human Message \u001b[0m=================================\n",
      "\n",
      "Please make a poem about Python code.\n",
      "==================================\u001b[1m Ai Message \u001b[0m==================================\n",
      "Tool Calls:\n",
      "  get_human_feedback (call_XVvhbFXDbcGIAUUHeoKQ4bN6)\n",
      " Call ID: call_XVvhbFXDbcGIAUUHeoKQ4bN6\n",
      "  Args:\n",
      "    poem: In a realm of logic and code so neat,\n",
      "Where lines of Python gracefully meet,\n",
      "Indentations holding secrets so tight,\n",
      "Crafting solutions, brilliant and bright.\n",
      "\n",
      "Variables dance in a structured flow,\n",
      "With lists and tuples, they endlessly grow.\n",
      "A function's embrace, a loop's gentle sway,\n",
      "In this digital garden, we code and play.\n",
      "\n",
      "From if statements branching out to explore,\n",
      "To libraries waiting, with goodies in store.\n",
      "The syntax, a melody, the debug, a plight,\n",
      "Yet the joy of creation fills hearts with delight.\n",
      "\n",
      "So here’s to the Python, elegant and wise,\n",
      "A language that opens a world to the skies.\n",
      "With each written line, a story is spun,\n",
      "In the vast universe of code, we are one.\n"
     ]
    }
   ],
   "source": [
    "for message in result[\"messages\"]:\n",
    "    message.pretty_print()"
   ]
  },
  {
   "cell_type": "code",
   "execution_count": 328,
   "id": "30ac04e0",
   "metadata": {},
   "outputs": [
    {
     "data": {
      "text/plain": [
       "(Interrupt(value=\"Here is the poem, tell me what you think of it.\\nIn a realm of logic and code so neat,\\nWhere lines of Python gracefully meet,\\nIndentations holding secrets so tight,\\nCrafting solutions, brilliant and bright.\\n\\nVariables dance in a structured flow,\\nWith lists and tuples, they endlessly grow.\\nA function's embrace, a loop's gentle sway,\\nIn this digital garden, we code and play.\\n\\nFrom if statements branching out to explore,\\nTo libraries waiting, with goodies in store.\\nThe syntax, a melody, the debug, a plight,\\nYet the joy of creation fills hearts with delight.\\n\\nSo here’s to the Python, elegant and wise,\\nA language that opens a world to the skies.\\nWith each written line, a story is spun,\\nIn the vast universe of code, we are one.\", id='80a5b57b14c5319cd5dd62a1d5104a41'),)"
      ]
     },
     "execution_count": 328,
     "metadata": {},
     "output_type": "execute_result"
    }
   ],
   "source": [
    "snapshot = graph.get_state(config)\n",
    "snapshot.interrupts"
   ]
  },
  {
   "cell_type": "code",
   "execution_count": 329,
   "id": "f5d22221",
   "metadata": {},
   "outputs": [
    {
     "data": {
      "text/plain": [
       "('tools',)"
      ]
     },
     "execution_count": 329,
     "metadata": {},
     "output_type": "execute_result"
    }
   ],
   "source": [
    "snapshot.next"
   ]
  },
  {
   "cell_type": "code",
   "execution_count": 331,
   "id": "d2a0d1df",
   "metadata": {},
   "outputs": [],
   "source": [
    "response = Command(resume=\"It looks good!\")\n",
    "\n",
    "result = graph.invoke(response, config=config)"
   ]
  },
  {
   "cell_type": "code",
   "execution_count": 332,
   "id": "28505b7b",
   "metadata": {},
   "outputs": [
    {
     "name": "stdout",
     "output_type": "stream",
     "text": [
      "================================\u001b[1m Human Message \u001b[0m=================================\n",
      "\n",
      "Please make a poem about Python code.\n",
      "==================================\u001b[1m Ai Message \u001b[0m==================================\n",
      "Tool Calls:\n",
      "  get_human_feedback (call_XVvhbFXDbcGIAUUHeoKQ4bN6)\n",
      " Call ID: call_XVvhbFXDbcGIAUUHeoKQ4bN6\n",
      "  Args:\n",
      "    poem: In a realm of logic and code so neat,\n",
      "Where lines of Python gracefully meet,\n",
      "Indentations holding secrets so tight,\n",
      "Crafting solutions, brilliant and bright.\n",
      "\n",
      "Variables dance in a structured flow,\n",
      "With lists and tuples, they endlessly grow.\n",
      "A function's embrace, a loop's gentle sway,\n",
      "In this digital garden, we code and play.\n",
      "\n",
      "From if statements branching out to explore,\n",
      "To libraries waiting, with goodies in store.\n",
      "The syntax, a melody, the debug, a plight,\n",
      "Yet the joy of creation fills hearts with delight.\n",
      "\n",
      "So here’s to the Python, elegant and wise,\n",
      "A language that opens a world to the skies.\n",
      "With each written line, a story is spun,\n",
      "In the vast universe of code, we are one.\n",
      "=================================\u001b[1m Tool Message \u001b[0m=================================\n",
      "Name: get_human_feedback\n",
      "\n",
      "It looks good!\n",
      "==================================\u001b[1m Ai Message \u001b[0m==================================\n",
      "\n",
      "I'm glad to hear that you liked the poem! Here it is for you:\n",
      "\n",
      "---\n",
      "\n",
      "In a realm of logic and code so neat,  \n",
      "Where lines of Python gracefully meet,  \n",
      "Indentations holding secrets so tight,  \n",
      "Crafting solutions, brilliant and bright.\n",
      "\n",
      "Variables dance in a structured flow,  \n",
      "With lists and tuples, they endlessly grow.  \n",
      "A function's embrace, a loop's gentle sway,  \n",
      "In this digital garden, we code and play.\n",
      "\n",
      "From if statements branching out to explore,  \n",
      "To libraries waiting, with goodies in store.  \n",
      "The syntax, a melody, the debug, a plight,  \n",
      "Yet the joy of creation fills hearts with delight.\n",
      "\n",
      "So here’s to the Python, elegant and wise,  \n",
      "A language that opens a world to the skies.  \n",
      "With each written line, a story is spun,  \n",
      "In the vast universe of code, we are one.\n",
      "\n",
      "---\n",
      "\n",
      "Feel free to share any thoughts or let me know if there's anything else you'd like!\n"
     ]
    }
   ],
   "source": [
    "for message in result[\"messages\"]:\n",
    "    message.pretty_print()"
   ]
  },
  {
   "cell_type": "code",
   "execution_count": 333,
   "id": "1238f02a",
   "metadata": {},
   "outputs": [
    {
     "data": {
      "text/plain": [
       "()"
      ]
     },
     "execution_count": 333,
     "metadata": {},
     "output_type": "execute_result"
    }
   ],
   "source": [
    "snapshot = graph.get_state(config)\n",
    "snapshot.next"
   ]
  },
  {
   "cell_type": "code",
   "execution_count": null,
   "id": "7a7cf6f3",
   "metadata": {},
   "outputs": [],
   "source": []
  }
 ],
 "metadata": {
  "kernelspec": {
   "display_name": ".venv",
   "language": "python",
   "name": "python3"
  },
  "language_info": {
   "codemirror_mode": {
    "name": "ipython",
    "version": 3
   },
   "file_extension": ".py",
   "mimetype": "text/x-python",
   "name": "python",
   "nbconvert_exporter": "python",
   "pygments_lexer": "ipython3",
   "version": "3.13.5"
  }
 },
 "nbformat": 4,
 "nbformat_minor": 5
}
