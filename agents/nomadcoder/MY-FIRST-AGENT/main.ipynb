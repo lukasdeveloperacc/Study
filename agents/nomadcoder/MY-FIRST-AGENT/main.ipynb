{
 "cells": [
  {
   "cell_type": "code",
   "execution_count": null,
   "id": "b0940e21",
   "metadata": {},
   "outputs": [
    {
     "name": "stdout",
     "output_type": "stream",
     "text": [
      "ChatCompletion(id='chatcmpl-CEQXlcsFjnvJESJHE9bag42jjvo3Q', choices=[Choice(finish_reason='stop', index=0, logprobs=None, message=ChatCompletionMessage(content='The capital of Greece is Athens.', refusal=None, role='assistant', annotations=[], audio=None, function_call=None, tool_calls=None))], created=1757554661, model='gpt-4o-mini-2024-07-18', object='chat.completion', service_tier='default', system_fingerprint='fp_b83a7d52ea', usage=CompletionUsage(completion_tokens=7, prompt_tokens=16, total_tokens=23, completion_tokens_details=CompletionTokensDetails(accepted_prediction_tokens=0, audio_tokens=0, reasoning_tokens=0, rejected_prediction_tokens=0), prompt_tokens_details=PromptTokensDetails(audio_tokens=0, cached_tokens=0)))\n"
     ]
    }
   ],
   "source": [
    "import openai\n",
    "\n",
    "client = openai.OpenAI()\n",
    "\n",
    "PROMPT = \"\"\"\n",
    "I have the following function in my system.\n",
    "\n",
    "`get_wather`\n",
    "`get_currency`\n",
    "`get_news`\n",
    "\n",
    "All of them receive the name of a country as an argument (i.e get_news('Spain'))\n",
    "\n",
    "Please answer with the naem of function that you would like me to run.\n",
    "\n",
    "Please say nothing else, just the name of the function with the arguments.\n",
    "\n",
    "Answer the follwing question:\n",
    "\n",
    "What is the wather in Greece ?\n",
    "\"\"\"\n",
    "\n",
    "response = client.chat.completions.create(\n",
    "    model=\"gpt-4o-mini\",\n",
    "    messages=[\n",
    "        {\"role\": \"user\", \"content\": \"What is the capital of Greece?\"}\n",
    "    ]\n",
    ") # n 이라는 argument를 사용하면 여러 답변의 Choices 결과를 볼 수 있음.\n",
    "print(response)"
   ]
  },
  {
   "cell_type": "code",
   "execution_count": 3,
   "id": "984717a0",
   "metadata": {},
   "outputs": [
    {
     "name": "stdout",
     "output_type": "stream",
     "text": [
      "The capital of Greece is Athens.\n"
     ]
    }
   ],
   "source": [
    "for choice in response.choices:\n",
    "    print(choice.message.content)"
   ]
  },
  {
   "cell_type": "code",
   "execution_count": null,
   "id": "97a64081",
   "metadata": {},
   "outputs": [],
   "source": []
  }
 ],
 "metadata": {
  "kernelspec": {
   "display_name": ".venv",
   "language": "python",
   "name": "python3"
  },
  "language_info": {
   "codemirror_mode": {
    "name": "ipython",
    "version": 3
   },
   "file_extension": ".py",
   "mimetype": "text/x-python",
   "name": "python",
   "nbconvert_exporter": "python",
   "pygments_lexer": "ipython3",
   "version": "3.12.10"
  }
 },
 "nbformat": 4,
 "nbformat_minor": 5
}
