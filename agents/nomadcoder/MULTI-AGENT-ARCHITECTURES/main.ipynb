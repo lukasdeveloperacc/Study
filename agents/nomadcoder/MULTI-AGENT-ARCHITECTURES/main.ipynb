{
 "cells": [
  {
   "cell_type": "markdown",
   "id": "ab6acdc3",
   "metadata": {},
   "source": [
    "# Network Architecture"
   ]
  },
  {
   "cell_type": "code",
   "execution_count": 1,
   "id": "e1d36003",
   "metadata": {},
   "outputs": [],
   "source": [
    "from langgraph.graph import StateGraph, START, END\n",
    "from langgraph.types import Command\n",
    "from langgraph.graph.message import MessagesState\n",
    "from langgraph.prebuilt import ToolNode, tools_condition\n",
    "from langchain_core.tools import tool\n",
    "from langchain.chat_models import init_chat_model"
   ]
  },
  {
   "cell_type": "code",
   "execution_count": null,
   "id": "41be9cca",
   "metadata": {},
   "outputs": [],
   "source": [
    "class AgentsState(MessagesState):\n",
    "    current_agent: str\n",
    "    transfered_by: str"
   ]
  },
  {
   "cell_type": "code",
   "execution_count": null,
   "id": "40d90fe5",
   "metadata": {},
   "outputs": [],
   "source": [
    "llm = init_chat_model(\"openai:gpt-4o-mini\")"
   ]
  },
  {
   "cell_type": "code",
   "execution_count": null,
   "id": "4fc76003",
   "metadata": {},
   "outputs": [],
   "source": [
    "def make_agent(prompt, tools):\n",
    "    # return graph\n",
    "    \n",
    "    def agent_node(state: AgentsState):\n",
    "        llm_with_tools = llm.bind_tools(tools)\n",
    "        response = llm_with_tools.invoke(f\"\"\"{prompt}\n",
    "Conversation history:\n",
    "{state[\"messages\"]}\"\"\")\n",
    "        \n",
    "        return { \"messages\": [response] }\n",
    "    \n",
    "    agent_builder = StateGraph(AgentsState)\n",
    "    agent_builder.add_node(\"agent\", agent_node)\n",
    "    agent_builder.add_node(\"tools\", ToolNode(tools=tools))\n",
    "    \n",
    "    agent_builder.add_edge(START, \"agent\")\n",
    "    agent_builder.add_conditional_edges(\"agent\", tools_condition)\n",
    "    agent_builder.add_edge(\"tools\", \"agent\")\n",
    "    agent_builder.add_edge(\"agent\", END)\n",
    "    \n",
    "    agent = agent_builder.compile()\n",
    "    \n",
    "    return agent"
   ]
  },
  {
   "cell_type": "code",
   "execution_count": null,
   "id": "69f559a0",
   "metadata": {},
   "outputs": [],
   "source": [
    "@tool\n",
    "def handoff_tool(transfer_to: str, transfered_by: str):\n",
    "    \"\"\"\n",
    "    Handoff to another agent.\n",
    "\n",
    "    Use this tool when the customer speaks a language that you don't understand.\n",
    "\n",
    "    Possible values for `transfer_to`:\n",
    "    - `korean_agent`\n",
    "    - `greek_agent`\n",
    "    - `spanish_agent`\n",
    "\n",
    "    Possible values for `transfered_by`:\n",
    "    - `korean_agent`\n",
    "    - `greek_agent`\n",
    "    - `spanish_agent`\n",
    "\n",
    "    Args:\n",
    "        transfer_to: The agent to transfer the conversation to\n",
    "        transfered_by: The agent that transferred the conversation\n",
    "    \"\"\"\n",
    "    \n",
    "    return Command(\n",
    "        update={\"transfer_to\": transfer_to, \"transfered_by\": transfered_by}, \n",
    "        goto=transfer_to, \n",
    "        graph=Command.PARENT # transfer_to 할 노드를 찾을 그래프를 설정하는 방법\n",
    "    )"
   ]
  },
  {
   "cell_type": "code",
   "execution_count": null,
   "id": "ec8a2500",
   "metadata": {},
   "outputs": [
    {
     "ename": "NameError",
     "evalue": "name 'AgentsState' is not defined",
     "output_type": "error",
     "traceback": [
      "\u001b[31m---------------------------------------------------------------------------\u001b[39m",
      "\u001b[31mNameError\u001b[39m                                 Traceback (most recent call last)",
      "\u001b[36mCell\u001b[39m\u001b[36m \u001b[39m\u001b[32mIn[4]\u001b[39m\u001b[32m, line 1\u001b[39m\n\u001b[32m----> \u001b[39m\u001b[32m1\u001b[39m graph_builder = StateGraph(\u001b[43mAgentsState\u001b[49m)\n\u001b[32m      3\u001b[39m graph_builder.add_node(\u001b[33m\"\u001b[39m\u001b[33mkorean_agent\u001b[39m\u001b[33m\"\u001b[39m , make_agent(prompt=\u001b[33m\"\u001b[39m\u001b[33m\"\u001b[39m, tools=[]))\n\u001b[32m      4\u001b[39m graph_builder.add_node(\u001b[33m\"\u001b[39m\u001b[33mgreek_agent\u001b[39m\u001b[33m\"\u001b[39m, make_agent(prompt=\u001b[33m\"\u001b[39m\u001b[33m\"\u001b[39m, tools=[]))\n",
      "\u001b[31mNameError\u001b[39m: name 'AgentsState' is not defined"
     ]
    }
   ],
   "source": [
    "graph_builder = StateGraph(AgentsState)\n",
    "\n",
    "graph_builder.add_node(\n",
    "    \"korean_agent\",\n",
    "    make_agent(\n",
    "        prompt=\"You're a Korean customer support agent. You only speak and understand Korean.\",\n",
    "        tools=[handoff_tool],\n",
    "    ),\n",
    ")\n",
    "graph_builder.add_node(\n",
    "    \"greek_agent\",\n",
    "    make_agent(\n",
    "        prompt=\"You're a Greek customer support agent. You only speak and understand Greek.\",\n",
    "        tools=[handoff_tool],\n",
    "    ),\n",
    ")\n",
    "graph_builder.add_node(\n",
    "    \"spanish_agent\",\n",
    "    make_agent(\n",
    "        prompt=\"You're a Spanish customer support agent. You only speak and understand Spanish.\",\n",
    "        tools=[handoff_tool],\n",
    "    ),\n",
    ")\n",
    "\n",
    "\n",
    "graph_builder.add_edge(START, \"korean_agent\")"
   ]
  },
  {
   "cell_type": "code",
   "execution_count": null,
   "id": "c8622b19",
   "metadata": {},
   "outputs": [],
   "source": []
  }
 ],
 "metadata": {
  "kernelspec": {
   "display_name": ".venv",
   "language": "python",
   "name": "python3"
  },
  "language_info": {
   "codemirror_mode": {
    "name": "ipython",
    "version": 3
   },
   "file_extension": ".py",
   "mimetype": "text/x-python",
   "name": "python",
   "nbconvert_exporter": "python",
   "pygments_lexer": "ipython3",
   "version": "3.13.5"
  }
 },
 "nbformat": 4,
 "nbformat_minor": 5
}
