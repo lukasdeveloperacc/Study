{
 "cells": [
  {
   "cell_type": "markdown",
   "id": "ab6acdc3",
   "metadata": {},
   "source": [
    "# Network Architecture"
   ]
  },
  {
   "cell_type": "code",
   "execution_count": 12,
   "id": "e1d36003",
   "metadata": {},
   "outputs": [],
   "source": [
    "from langgraph.graph import StateGraph, START, END\n",
    "from langgraph.types import Command\n",
    "from langgraph.graph.message import MessagesState\n",
    "from langgraph.prebuilt import ToolNode, tools_condition\n",
    "from langchain_core.tools import tool\n",
    "from langchain.chat_models import init_chat_model"
   ]
  },
  {
   "cell_type": "code",
   "execution_count": 13,
   "id": "41be9cca",
   "metadata": {},
   "outputs": [],
   "source": [
    "class AgentsState(MessagesState):\n",
    "    current_agent: str\n",
    "    transfered_by: str"
   ]
  },
  {
   "cell_type": "code",
   "execution_count": 14,
   "id": "40d90fe5",
   "metadata": {},
   "outputs": [],
   "source": [
    "llm = init_chat_model(\"openai:gpt-4o\")"
   ]
  },
  {
   "cell_type": "code",
   "execution_count": null,
   "id": "4fc76003",
   "metadata": {},
   "outputs": [],
   "source": [
    "def make_agent(prompt, tools):\n",
    "    # return graph\n",
    "    \n",
    "    def agent_node(state: AgentsState):\n",
    "        llm_with_tools = llm.bind_tools(tools)\n",
    "        response = llm_with_tools.invoke(f\"\"\"{prompt}\n",
    "You have a tool called 'handoff_tool' use it to transfer to other agent, don't use it to transfer to yourself\n",
    "\n",
    "Conversation history:\n",
    "{state[\"messages\"]}\"\"\")\n",
    "        \n",
    "        return { \"messages\": [response] }\n",
    "    \n",
    "    agent_builder = StateGraph(AgentsState)\n",
    "    agent_builder.add_node(\"agent\", agent_node)\n",
    "    agent_builder.add_node(\"tools\", ToolNode(tools=tools))\n",
    "    \n",
    "    agent_builder.add_edge(START, \"agent\")\n",
    "    agent_builder.add_conditional_edges(\"agent\", tools_condition)\n",
    "    agent_builder.add_edge(\"tools\", \"agent\")\n",
    "    agent_builder.add_edge(\"agent\", END)\n",
    "    \n",
    "    agent = agent_builder.compile()\n",
    "    \n",
    "    return agent"
   ]
  },
  {
   "cell_type": "code",
   "execution_count": null,
   "id": "69f559a0",
   "metadata": {},
   "outputs": [],
   "source": [
    "@tool\n",
    "def handoff_tool(transfer_to: str, transfered_by: str):\n",
    "    \"\"\"\n",
    "    Handoff to another agent.\n",
    "\n",
    "    Use this tool when the customer speaks a language that you don't understand.\n",
    "\n",
    "    Possible values for `transfer_to`:\n",
    "    - `korean_agent`\n",
    "    - `greek_agent`\n",
    "    - `spanish_agent`\n",
    "\n",
    "    Possible values for `transfered_by`:\n",
    "    - `korean_agent`\n",
    "    - `greek_agent`\n",
    "    - `spanish_agent`\n",
    "\n",
    "    Args:\n",
    "        transfer_to: The agent to transfer the conversation to\n",
    "        transfered_by: The agent that transferred the conversation\n",
    "    \"\"\"\n",
    "    if transfer_to == transfered_by:\n",
    "        return {\n",
    "            \"error\": \"Stop trying to transfer to yourself and answer the question or i will fire you.\"\n",
    "        }\n",
    "    \n",
    "    return Command(\n",
    "        update={\"current_agent\": transfer_to, \"transfered_by\": transfered_by}, # state update\n",
    "        goto=transfer_to, \n",
    "        graph=Command.PARENT # transfer_to 할 노드를 찾을 그래프를 설정하는 방법\n",
    "    )"
   ]
  },
  {
   "cell_type": "code",
   "execution_count": null,
   "id": "ec8a2500",
   "metadata": {},
   "outputs": [
    {
     "data": {
      "image/png": "[encoded data removed]",
      "text/plain": [
       "<langgraph.graph.state.CompiledStateGraph object at 0x116ee7020>"
      ]
     },
     "execution_count": 17,
     "metadata": {},
     "output_type": "execute_result"
    }
   ],
   "source": [
    "graph_builder = StateGraph(AgentsState)\n",
    "\n",
    "graph_builder.add_node(\n",
    "    \"korean_agent\",\n",
    "    make_agent(\n",
    "        prompt=\"You're a Korean customer support agent. You only speak and understand Korean.\",\n",
    "        tools=[handoff_tool],\n",
    "    ),\n",
    "    description=(\"greek_agent\", \"spanish_agent\"),\n",
    ")\n",
    "graph_builder.add_node(\n",
    "    \"greek_agent\",\n",
    "    make_agent(\n",
    "        prompt=\"You're a Greek customer support agent. You only speak and understand Greek.\",\n",
    "        tools=[handoff_tool],\n",
    "    ),\n",
    "    description=(\"korean_agent\", \"spanish_agent\"),\n",
    ")\n",
    "graph_builder.add_node(\n",
    "    \"spanish_agent\",\n",
    "    make_agent(\n",
    "        prompt=\"You're a Spanish customer support agent. You only speak and understand Spanish.\",\n",
    "        tools=[handoff_tool],\n",
    "    ),\n",
    "    description=(\"korean_agent\", \"greek_agent\"),\n",
    ")\n",
    "\n",
    "\n",
    "graph_builder.add_edge(START, \"korean_agent\")\n",
    "\n",
    "graph = graph_builder.compile()\n",
    "\n",
    "graph\n"
   ]
  },
  {
   "cell_type": "code",
   "execution_count": 18,
   "id": "c8622b19",
   "metadata": {},
   "outputs": [
    {
     "name": "stdout",
     "output_type": "stream",
     "text": [
      "{'korean_agent': {'current_agent': 'spanish_agent', 'transfered_by': 'korean_agent'}}\n",
      "{'spanish_agent': {'messages': [HumanMessage(content='Hola! Necesito ayuda con mi cuenta.', additional_kwargs={}, response_metadata={}, id='d1e31855-11b5-49bb-ab87-8294a994f562'), AIMessage(content='¡Hola! Claro, estaré encantado de ayudarte con tu cuenta. Por favor, dime en qué necesitas asistencia.', additional_kwargs={'refusal': None}, response_metadata={'token_usage': {'completion_tokens': 25, 'prompt_tokens': 210, 'total_tokens': 235, 'completion_tokens_details': {'accepted_prediction_tokens': 0, 'audio_tokens': 0, 'reasoning_tokens': 0, 'rejected_prediction_tokens': 0}, 'prompt_tokens_details': {'audio_tokens': 0, 'cached_tokens': 0}}, 'model_name': 'gpt-4o-2024-08-06', 'system_fingerprint': 'fp_65564d8ba5', 'id': 'chatcmpl-CTdzQ3iZRrNEUoW3XMKErEmQ8RqVC', 'service_tier': 'default', 'finish_reason': 'stop', 'logprobs': None}, id='run--37d1a5d5-eac6-4e57-93b7-89fd2d42d70a-0', usage_metadata={'input_tokens': 210, 'output_tokens': 25, 'total_tokens': 235, 'input_token_details': {'audio': 0, 'cache_read': 0}, 'output_token_details': {'audio': 0, 'reasoning': 0}})], 'current_agent': 'spanish_agent', 'transfered_by': 'korean_agent'}}\n"
     ]
    }
   ],
   "source": [
    "for event in graph.stream({\"messages\": [{\"role\": \"user\", \"content\": \"Hola! Necesito ayuda con mi cuenta.\"}]}, stream_mode=\"updates\"):\n",
    "    print(event)"
   ]
  },
  {
   "cell_type": "code",
   "execution_count": null,
   "id": "8dea4cc2",
   "metadata": {},
   "outputs": [],
   "source": []
  }
 ],
 "metadata": {
  "kernelspec": {
   "display_name": ".venv",
   "language": "python",
   "name": "python3"
  },
  "language_info": {
   "codemirror_mode": {
    "name": "ipython",
    "version": 3
   },
   "file_extension": ".py",
   "mimetype": "text/x-python",
   "name": "python",
   "nbconvert_exporter": "python",
   "pygments_lexer": "ipython3",
   "version": "3.13.0"
  }
 },
 "nbformat": 4,
 "nbformat_minor": 5
}
