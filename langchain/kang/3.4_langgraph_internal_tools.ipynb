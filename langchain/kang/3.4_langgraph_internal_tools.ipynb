{
 "cells": [
  {
   "cell_type": "code",
   "execution_count": 1,
   "id": "3c296b62",
   "metadata": {},
   "outputs": [
    {
     "data": {
      "text/plain": [
       "True"
      ]
     },
     "execution_count": 1,
     "metadata": {},
     "output_type": "execute_result"
    }
   ],
   "source": [
    "from dotenv import load_dotenv\n",
    "\n",
    "load_dotenv()"
   ]
  },
  {
   "cell_type": "code",
   "execution_count": 2,
   "id": "9c83f9e6",
   "metadata": {},
   "outputs": [],
   "source": [
    "from langchain_openai import ChatOpenAI\n",
    "\n",
    "llm = ChatOpenAI(model_name=\"gpt-4o\")\n",
    "small_llm = ChatOpenAI(model_name=\"gpt-4o-mini\")\n"
   ]
  },
  {
   "cell_type": "code",
   "execution_count": 3,
   "id": "095e26cc",
   "metadata": {},
   "outputs": [],
   "source": [
    "from langchain_core.tools import tool\n",
    "\n",
    "# Required: tool decorator, expected arguments, description\n",
    "@tool\n",
    "def add(a: int, b: int) -> int:\n",
    "    \"\"\"숫자 a와 b를 더합니다\"\"\"\n",
    "    return a + b\n",
    "\n",
    "@tool\n",
    "def multiply(a: int, b: int) -> int:\n",
    "    \"\"\"숫자 a와 b를 곱합니다\"\"\"\n",
    "    return a * b"
   ]
  },
  {
   "cell_type": "code",
   "execution_count": 4,
   "id": "8db9119c",
   "metadata": {},
   "outputs": [],
   "source": [
    "from langchain_community.tools import DuckDuckGoSearchRun\n",
    "\n",
    "search_tool = DuckDuckGoSearchRun()\n",
    "\n",
    "# search_tool.invoke(\"Obama's first name ?\")"
   ]
  },
  {
   "cell_type": "code",
   "execution_count": 5,
   "id": "a7f93f04",
   "metadata": {},
   "outputs": [
    {
     "data": {
      "text/plain": [
       "[GmailCreateDraft(api_resource=<googleapiclient.discovery.Resource object at 0x7f7d99a4d6a0>),\n",
       " GmailSendMessage(api_resource=<googleapiclient.discovery.Resource object at 0x7f7d99a4d6a0>),\n",
       " GmailSearch(api_resource=<googleapiclient.discovery.Resource object at 0x7f7d99a4d6a0>),\n",
       " GmailGetMessage(api_resource=<googleapiclient.discovery.Resource object at 0x7f7d99a4d6a0>),\n",
       " GmailGetThread(api_resource=<googleapiclient.discovery.Resource object at 0x7f7d99a4d6a0>)]"
      ]
     },
     "execution_count": 5,
     "metadata": {},
     "output_type": "execute_result"
    }
   ],
   "source": [
    "from langchain_google_community.gmail.utils import (\n",
    "    build_resource_service,\n",
    "    get_gmail_credentials,\n",
    ")\n",
    "from langchain_google_community.gmail.toolkit import GmailToolkit\n",
    "\n",
    "# Can review scopes here https://developers.google.com/gmail/api/auth/scopes\n",
    "# For instance, readonly scope is 'https://www.googleapis.com/auth/gmail.readonly'\n",
    "# 1. Google credential 받기\n",
    "# 2. Gmail API 활성화하기\n",
    "credentials = get_gmail_credentials(\n",
    "    token_file=\"./google/token.json\",\n",
    "    scopes=[\"https://mail.google.com/\"],\n",
    "    client_secrets_file=\"./google/client_secret_956757050949-dh18vafkhg3aqmq0tigt1es79q2qisb6.apps.googleusercontent.com.json\",\n",
    ")\n",
    "api_resource = build_resource_service(credentials=credentials)\n",
    "gmail_toolkit = GmailToolkit(api_resource=api_resource)\n",
    "gmail_tool_list = gmail_toolkit.get_tools()\n",
    "gmail_tool_list"
   ]
  },
  {
   "cell_type": "code",
   "execution_count": 6,
   "id": "6906d779",
   "metadata": {},
   "outputs": [],
   "source": [
    "from langchain.agents import load_tools\n",
    "\n",
    "loaded_tools_list = load_tools([\"arxiv\"])"
   ]
  },
  {
   "cell_type": "code",
   "execution_count": 19,
   "id": "e5534099",
   "metadata": {},
   "outputs": [],
   "source": [
    "from langchain_chroma import Chroma\n",
    "from langchain_openai import OpenAIEmbeddings\n",
    "from langchain_core.tools.retriever import create_retriever_tool\n",
    "from langchain_text_splitters import RecursiveCharacterTextSplitter\n",
    "from langchain_community.document_loaders import TextLoader\n",
    "from langchain_chroma import Chroma\n",
    "\n",
    "embedding_function = OpenAIEmbeddings(model=\"text-embedding-3-large\")\n",
    "\n",
    "# text_path = \"./docs/real_estate_tax.txt\"\n",
    "# text_splitter = RecursiveCharacterTextSplitter(\n",
    "#     chunk_size = 1500,\n",
    "#     chunk_overlap = 100,\n",
    "#     separators=['\\n\\n', '\\n']\n",
    "# )\n",
    "# loader = TextLoader(text_path)\n",
    "# document_list = loader.load_and_split(text_splitter)\n",
    "\n",
    "# vector_store = Chroma.from_documents(\n",
    "#     documents=document_list,\n",
    "#     embedding=embedding_function,\n",
    "#     collection_name = 'real_estate_tax',\n",
    "#     persist_directory = './real_estate_tax_collection'\n",
    "# )\n",
    "\n",
    "vector_store = Chroma(\n",
    "    collection_name=\"real_estate_tax\",\n",
    "    embedding_function=embedding_function,\n",
    "    persist_directory=\"./real_estate_tax_collection\",\n",
    ")\n",
    "\n",
    "retriever = vector_store.as_retriever()\n",
    "retriever_tool = create_retriever_tool(retriever, \"retriever\", \"Contains information about real estate tax up to December 2024\")"
   ]
  },
  {
   "cell_type": "code",
   "execution_count": 20,
   "id": "136ef154",
   "metadata": {},
   "outputs": [],
   "source": [
    "from langgraph.prebuilt import ToolNode\n",
    "\n",
    "tool_list = [add, multiply, search_tool, retriever_tool] + gmail_tool_list + loaded_tools_list\n",
    "llm_with_tools = llm.bind_tools(tool_list)\n",
    "# AnyMessage(System, Human, AI, Tool) 리스트를 입력으로 받아야한다.\n",
    "# 마지막은 AI message 이어야하고, 해당 메시지에 tool_calls가 있어야한다.\n",
    "tool_node = ToolNode(tool_list)"
   ]
  },
  {
   "cell_type": "code",
   "execution_count": 21,
   "id": "b96676b0",
   "metadata": {},
   "outputs": [],
   "source": [
    "from langgraph.graph import MessagesState, StateGraph\n",
    "\n",
    "graph_builder = StateGraph(MessagesState)\n"
   ]
  },
  {
   "cell_type": "code",
   "execution_count": 22,
   "id": "02995b14",
   "metadata": {},
   "outputs": [],
   "source": [
    "def agent(state: MessagesState):\n",
    "    message = state[\"messages\"]\n",
    "    response = llm_with_tools.invoke(message)\n",
    "    return {\"messages\": [response]}"
   ]
  },
  {
   "cell_type": "code",
   "execution_count": null,
   "id": "14cb1b89",
   "metadata": {},
   "outputs": [],
   "source": [
    "# Agent는 tool을 사용할 필요가 없을 때 메시지에 tool_calls가 없고, content에 답변이 들어가게된다 는 점을 이용\n",
    "\n",
    "# from langgraph.graph import END\n",
    "# def should_continue(state: MessagesState):\n",
    "#     message = state[\"messages\"]\n",
    "#     last_ai_message = message[-1]\n",
    "#     if last_ai_message.tool_calls:\n",
    "#         return 'tools'\n",
    "#     return END"
   ]
  },
  {
   "cell_type": "code",
   "execution_count": 24,
   "id": "22843bdf",
   "metadata": {},
   "outputs": [
    {
     "data": {
      "text/plain": [
       "<langgraph.graph.state.StateGraph at 0x7f7d2c86efd0>"
      ]
     },
     "execution_count": 24,
     "metadata": {},
     "output_type": "execute_result"
    }
   ],
   "source": [
    "graph_builder.add_node('agent', agent)\n",
    "graph_builder.add_node('tools', tool_node)\n"
   ]
  },
  {
   "cell_type": "code",
   "execution_count": null,
   "id": "ef8ef725",
   "metadata": {},
   "outputs": [
    {
     "data": {
      "text/plain": [
       "<langgraph.graph.state.StateGraph at 0x7f7d2c86efd0>"
      ]
     },
     "execution_count": 25,
     "metadata": {},
     "output_type": "execute_result"
    }
   ],
   "source": [
    "from langgraph.graph import START, END\n",
    "from langgraph.prebuilt import tools_condition\n",
    "\n",
    "graph_builder.add_edge(START, 'agent')\n",
    "# graph_builder.add_conditional_edges(\"agent\", should_continue, [\"tools\", END])\n",
    "graph_builder.add_conditional_edges(\"agent\", tools_condition)\n",
    "graph_builder.add_edge(\"tools\", \"agent\")\n",
    "\n"
   ]
  },
  {
   "cell_type": "code",
   "execution_count": 26,
   "id": "9bd66b53",
   "metadata": {},
   "outputs": [],
   "source": [
    "graph = graph_builder.compile()"
   ]
  },
  {
   "cell_type": "code",
   "execution_count": 27,
   "id": "bd576bbb",
   "metadata": {},
   "outputs": [
    {
     "data": {
      "image/png": "[encoded data removed]",
      "text/plain": [
       "<IPython.core.display.Image object>"
      ]
     },
     "metadata": {},
     "output_type": "display_data"
    }
   ],
   "source": [
    "from IPython.display import display, Image\n",
    "display(Image(graph.get_graph().draw_mermaid_png()))"
   ]
  },
  {
   "cell_type": "code",
   "execution_count": 28,
   "id": "64462270",
   "metadata": {},
   "outputs": [
    {
     "name": "stdout",
     "output_type": "stream",
     "text": [
      "================================\u001b[1m Human Message \u001b[0m=================================\n",
      "\n",
      "집이 15억일 때 2024년 종합부동산세를 계산해줄 수 있나요?\n",
      "==================================\u001b[1m Ai Message \u001b[0m==================================\n",
      "Tool Calls:\n",
      "  retriever (call_fdIXzjiJiW7DduN7YoKamYNO)\n",
      " Call ID: call_fdIXzjiJiW7DduN7YoKamYNO\n",
      "  Args:\n",
      "    query: 2024 이십오억 종합부동산세 계산\n",
      "=================================\u001b[1m Tool Message \u001b[0m=================================\n",
      "Name: retriever\n",
      "\n",
      "납세의무자가 2주택 이하를 소유한 경우\n",
      "\n",
      "| 과세표준              | 세율                                  |\n",
      "|---------------------|-------------------------------------|\n",
      "| 3억 원 이하           | 1천분의 5                              |\n",
      "| 3억 원 초과 6억 원 이하 | 150만 원 + (3억 원을 초과하는 금액의 1천분의 7)  |\n",
      "| 6억 원 초과 12억 원 이하 | 360만 원 + (6억 원을 초과하는 금액의 1천분의 10) |\n",
      "| 12억 원 초과 25억 원 이하 | 960만 원 + (12억 원을 초과하는 금액의 1천분의 13)|\n",
      "| 25억 원 초과 50억 원 이하 | 2천650만 원 + (25억 원을 초과하는 금액의 1천분의 15)|\n",
      "| 50억 원 초과 94억 원 이하 | 6천400만 원 + (50억 원을 초과하는 금액의 1천분의 20)|\n",
      "| 94억 원 초과          | 1억 5천200만 원 + (94억 원을 초과하는 금액의 1천분의 27)|\n",
      "\n",
      "납세의무자가 3주택 이상을 소유한 경우\n",
      "\n",
      "| 과세표준              | 세율                                  |\n",
      "|---------------------|-------------------------------------|\n",
      "| 3억 원 이하           | 1천분의 5                              |\n",
      "| 3억 원 초과 6억 원 이하 | 150만 원 + (3억 원을 초과하는 금액의 1천분의 7)  |\n",
      "| 6억 원 초과 12억 원 이하 | 360만 원 + (6억 원을 초과하는 금액의 1천분의 10) |\n",
      "| 12억 원 초과 25억 원 이하 | 960만 원 + (12억 원을 초과하는 금액의 1천분의 20)|\n",
      "| 25억 원 초과 50억 원 이하 | 3천560만 원 + (25억 원을 초과하는 금액의 1천분의 30)|\n",
      "| 50억 원 초과 94억 원 이하 | 1억1천600만 원 + (50억 원을 초과하는 금액의 1천분의 40)|\n",
      "| 94억 원 초과          | 2억8천660만 원 + (94억 원을 초과하는 금액의 1천분의 50)|\n",
      "\n",
      "② 납세의무자가 법인 또는 법인으로 보는 단체인 경우 제1항에도 불구하고 과세표준에 다음 각 호에 따른 세율을 적용하여 계산한 금액을 주택분 종합부동산세액으로 한다. <신설 2020. 8. 18., 2020. 12. 29., 2022. 12. 31., 2023. 4. 18.>\n",
      "법제처 3 국가법령정보센터\n",
      "종합부동산세법\n",
      "\n",
      "신탁 설정일 이전에 「국세기본법」 제35조제2항에 따른 법령개정이 도래하는 종합부동산세세액 해당 신탁주택과 관련하여 발생한 것\n",
      "\n",
      "\n",
      "제1호의 금액에 따른 강제징수 과정에서 발생한 강제징수비\n",
      "\n",
      "\n",
      "[본조신설 2020. 12. 29.]\n",
      "제8조(과세표준) ① 주택에 대한 종합부동산세의 과세표준은 납세의무자별로 주택의 공시가격을 합산한 금액에서 다음 각 호의 금액을 공제한 금액에 부동산 시장의 동향과 지방 연조 등을 고려하여 100분의 60부터 100분의 100까지의 범위에서 대통령령으로 정하는 공정시장가액비율을 곱한 금액으로 한다. 다만, 그 금액이 영본가조 있는 경우에는 영으로 본다. <개정 2022. 12. 31., 2023. 4. 18.>\n",
      "\n",
      "\n",
      "대통령령으로 정하는 1세대 1주택자(이하 “1세대 1주택자”라 한다.): 12억원\n",
      "\n",
      "\n",
      "제9조제1항제3호 각 목의 세율이 적용되는 법인 또는 법인으로 보는 단체: 6억원\n",
      "\n",
      "\n",
      "제1호 및 제2호에 해당하지 아니하는 자: 9억원\n",
      "\n",
      "\n",
      "이 경우 각 호의 어느 하나에 해당하는 주택은 제1항에 따른 과세표준 합산의 대상이 되는 주택의 범위에 포함되지 아니하는 것으로 본다. <신설 2005. 12. 31., 2008. 12. 26., 2011. 6. 7., 2015. 8. 28., 2020. 6. 9.>\n",
      "\n",
      "\n",
      "「민간임대주택에 관한 특별법」에 따른 민간임대주택, 「공공주택 특별법」에 따른 공공임대주택 또는 대통령령으로 정하는 다자주택 경과 민자기록, 주택의 수, 가격, 규모 등을 고려하여 대통령령으로 정하는 주택\n",
      "\n",
      "\n",
      "제1호의 주택에 영업을 종계에 제공하기 위한 기숙사 및 사업용 주택, 주택건설사업자가 건축하여 소유하고 있는 미완공주택, 개정어린이집 주택, 「수도권정비계획법」 제2조제1호에 따른 수도권의 지역에 소재하는 주택 중 종합부동산세를 부과하는 목적에 적합하지 아니한 것으로서 대통령으로 정하는 주택, 이 경우 중도열 원\n",
      "\n",
      "종합부동산세법\n",
      "[시행 2023. 4. 18] [법률 제19342호, 2023. 4. 18, 일부개정]\n",
      "기획재정부 (재산세제과) 044-215-4313\n",
      "제1장 총칙\n",
      "제1조(목적) 이 법은 고액의 부동산 보유자에 대하여 종합부동산세를 부과하여 부동산보유에 대한 조세부담의 형평성을 제고하고, 부동산의 가격안정을 도모함으로써 지방재정의 균형발전과 국민경제의 건전한 발전에 이바지함을 목적으로 한다.\n",
      "제2조(정의) 이 법에서 사용하는 용어의 정의는 다음 각호와 같다. <개정 2005. 12. 31., 2010. 3. 31., 2016. 1. 19., 2018. 12. 31., 2020. 6. 9., 2023. 3. 14.>\n",
      "1. \"시·군·구\"란 함은 「지방자치법」 제2조에 따른 지방자치단체인 시·군 및 자치구(이하 \"시·군·구\"이라 한다)를 말한다.\n",
      "2. \"시장·군수·구청장\"이라 함은 지방자치단체의 장인 시장·군수 및 자치구의 구청장(이하 \"시장·군수·구청장\"이라 한다)를 말한다.\n",
      "3. \"주택\"이라 함은 「지방세법」 제104조제3호에 의한 주택을 말한다.\n",
      "4. \"토지\"라 함은 「지방세법」 제104조제1호에 따른 토지를 말한다.\n",
      "5. \"주택분 재산세\"라 함은 「지방세법」 제105조 및 제107조에 따라 주택에 대하여 부과하는 재산세를 말한다.\n",
      "6. \"토지분 재산세\"라 함은 「지방세법」 제105조 및 제107조에 따라 토지에 대하여 부과하는 재산세를 말한다. <삭제 2005. 12. 31.>\n",
      "7. \"세대\"라 함은 주택 또는 토지의 소유자 및 그 배우자와 그들과 생계를 같이하는 가족으로서 대통령령으로 정하는 것을 말한다.\n",
      "8. \"공시가격\"이라 함은 「부동산 가격공시에 관한 법률」에 따라 가격이 공시되는 주택 및 토지에 대하여 같은 법에 따라 공시된 가격을 말한다. 다만, 같은 법에 따라 가격이 공시되지 아니한 경우에는 「지방세법」 제4조제1항 단서 및 같은 조 제2항에 따른 가액으로 한다.\n",
      "제3조(과세기준) 종합부동산세의 과세기준일은 「지방세법」 제114조에 따른 재산세의 과세기준일로 한다. <개정 2010. 3. 31.>\n",
      "제4조(납세의무자) ① 종합부동산세의 납세의무자가 개인 또는 법인으로 보지 아니하는 단체인 경우에는 소득세법 제6조의 규정을 준용하여 법인세를 정한다.\n",
      "② 종합부동산세의 납세의무자가 법인 또는 법인으로 보는 단체인 경우에는 「법인세법」 제9조제1항부터 제3항까지 규정을 준용하여 납세지를 정한다. <개정 2020. 6. 9.>\n",
      "③ 종합부동산세의 납세의무자가 비거주자와 개인 또는 외국법인으로서 국내사업장이 없고 국내원천소득이 발생하지 아니하는 주택 및 토지를 소유한 경우에는 그 주택 또는 토지의 소재지(주택 또는 토지가 둘 이상인 경우에는 공시가격이 가장 많은 주택 또는 토지 소재지를 말한다)를 납세지로 정한다. <신설 2008. 12. 26.>\n",
      "제5조(세액구분 및 세율) ① 종합부동산세는 주택에 대한 종합부동산세와 토지에 대한 종합부동산세로서 세액을 합한 금액을 그 세액으로 한다.\n",
      "\n",
      "법제처              4             국가법령정보센터\n",
      "종합부동산세법\n",
      "[2008. 12. 26. 법률 제9273호에 의하여 2008. 11. 13. 헌법재판소에서 위헌 결정된 이 조를 개정함]\n",
      "제10조(세부담의 상한) 종합부동산세의 납세의무자가 해당 연도에 납부하여야 할 주택분 재산세상당액(신탁주택의 경우 재산세의 납세의무자가 납부하여야 할 주택분 재산세상당액을 말한다)과 주택분 종합부동산세액상당액의 합계액(이하 이 조에서 \"주택에 대한 총세액상당액\"이라 한다)으로서 대통령령으로 정하는 바에 따라 계산한 세액이 해당 납세의무자에게 직전년도에 해당 주택에 부과된 주택에 대한 총세액상당액으로서 대통령령으로 정하는 바에 따라 계산한 세액의 100분의 150을 초과하는 경우에는 그 초과하는 세액에 대하여서는 제9조에도 불구하고 이를 없는 것으로 본다. 다만, 납세의무자가 법인으로 보는 단체로서 제9조제2항제3호 각 목의 세율이 적용되는 경우는 그러하지 아니하다. <개정 2005. 12. 31., 2008. 12. 26., 2018. 12. 31., 2020. 8. 18., 2020. 12. 29., 2022. 12. 31., 2023. 4. 18.>\n",
      "1. 삭제 <2022. 12. 31.>\n",
      "2. 삭제 <2022. 12. 31.>\n",
      "   가. 삭제 <2020. 8. 18.>\n",
      "   나. 삭제 <2020. 8. 18.>\n",
      "제10조의2(공동명의 1주택자의 납세의무 등에 관한 특례) ① 제7조제1항에도 불구하고 과세기준일 현재 세대원 중 1인이 그 배우자와 공동으로 1주택을 소유하고 해당 세대원 및 다른 세대원의 다른 주택(제8조제2항 각 호의 어느 하나에 해당하는 주택 중 대통령령으로 정하는 주택을 제외한다)을 소유하지 아니한 경우로서 대통령령으로 정하는 경우에는 배우자와 공동으로 1주택을 소유한 자도 그 배우자 중 대통령령으로 정하는 자(이하 \"공동명의 1주택자\"라 한다)는 해당 1주택에 대한 납세의무자로 할 수 있다.\n",
      "② 제1항을 적용받으려는 납세의무자는 당해 연도 9월 16일부터 9월 30일까지 대통령령으로 정하는 바에 따라 관할 세무서장에게 신청하여야 한다.\n",
      "③ 제1항을 적용하는 경우에는 공동명의 1주택자를 1세대 1주택자로 보아 제8조에 따른 과세표준과 제9조에 따른 세율 및 세액을 계산한다.\n",
      "④ 제1항부터 제3항까지를 적용할 때 해당 주택에 대한 과세표준의 계산, 세율 및 세액, 세부담의 구체적인 계산방식, 부과절차 및 그 밖에 필요한 사항은 대통령령으로 정한다.\n",
      "[본조신설 2020. 12. 29.]\n",
      "제3장 토지에 대한 과세\n",
      "제11조(일반세범) 토지에 대한 종합부동산세는 국내에 소재하는 토지에 대하여 「지방세법」 제106조제1항제1호에 따른 종합합산과세대상(이하 \"종합합산과세대상\"이라 한다)과 같은 법 제106조제1항제2호에 따른 별도합산과세대상(이하 \"별도합산과세대상\"이라 한다)으로 구분하여 과세한다. <개정 2010. 3. 31.>\n",
      "==================================\u001b[1m Ai Message \u001b[0m==================================\n",
      "\n",
      "집 값이 15억 원일 때 종합부동산세를 계산해 보겠습니다. 주택의 소유 상황에 따라 세율이 조금 달라지는데, 먼저 2주택 이하를 소유한 경우와 3주택 이상을 소유한 경우를 각각 계산해드리겠습니다.\n",
      "\n",
      "1. **2주택 이하 소유 시**:\n",
      "   - 과세표준: 집값 15억 원에서 공제 규정에 따른 공제 후 과세표준을 얻습니다.\n",
      "   - 12억 원 초과 25억 원 이하 세율: 960만 원 + (초과 금액의 1천분의 13)\n",
      "\n",
      "   계산:\n",
      "   - 15억 - 12억 = 3억 (초과 금액)\n",
      "   - 초과 금액에 대한 세금: 3억 × 0.0013 = 390만 원\n",
      "   - 총 세금: 960만 원 + 390만 원 = 1350만 원\n",
      "\n",
      "2. **3주택 이상 소유 시**:\n",
      "   - 12억 원 초과 25억 원 이하 세율: 960만 원 + (초과 금액의 1천분의 20)\n",
      "\n",
      "   계산:\n",
      "   - 초과 금액에 대한 세금: 3억 × 0.0020 = 600만 원\n",
      "   - 총 세금: 960만 원 + 600만 원 = 1560만 원\n",
      "\n",
      "위의 계산은 기본적인 공제와 세율을 바탕으로 한 것이기 때문에, 구체적인 상황에 따라 결과가 달라질 수 있습니다. 추가 공제나 특별한 세금 혜택이 존재할 수 있으므로, 세무 전문가에게 상담하시기 바랍니다.\n"
     ]
    }
   ],
   "source": [
    "from langchain_core.messages import HumanMessage\n",
    "\n",
    "query = \"집이 15억일 때 2024년 종합부동산세를 계산해줄 수 있나요?\"\n",
    "for chunk in graph.stream({\"messages\": [HumanMessage(content=query)]}, stream_mode=\"values\"):\n",
    "    chunk[\"messages\"][-1].pretty_print()"
   ]
  },
  {
   "cell_type": "code",
   "execution_count": null,
   "id": "31a58810",
   "metadata": {},
   "outputs": [],
   "source": []
  }
 ],
 "metadata": {
  "kernelspec": {
   "display_name": ".venv",
   "language": "python",
   "name": "python3"
  },
  "language_info": {
   "codemirror_mode": {
    "name": "ipython",
    "version": 3
   },
   "file_extension": ".py",
   "mimetype": "text/x-python",
   "name": "python",
   "nbconvert_exporter": "python",
   "pygments_lexer": "ipython3",
   "version": "3.13.3"
  }
 },
 "nbformat": 4,
 "nbformat_minor": 5
}
