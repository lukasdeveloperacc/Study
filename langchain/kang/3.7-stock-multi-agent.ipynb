{
 "cells": [
  {
   "cell_type": "code",
   "execution_count": 1,
   "id": "24451c6c",
   "metadata": {},
   "outputs": [
    {
     "data": {
      "text/plain": [
       "True"
      ]
     },
     "execution_count": 1,
     "metadata": {},
     "output_type": "execute_result"
    }
   ],
   "source": [
    "from dotenv import load_dotenv\n",
    "\n",
    "load_dotenv()"
   ]
  },
  {
   "cell_type": "code",
   "execution_count": 2,
   "id": "05c17faa",
   "metadata": {},
   "outputs": [],
   "source": [
    "from langchain_openai import ChatOpenAI\n",
    "\n",
    "llm = ChatOpenAI(model_name=\"gpt-4o\", temperature=0)\n",
    "small_llm = ChatOpenAI(model_name=\"gpt-4o-mini\", temperature=0)"
   ]
  },
  {
   "cell_type": "code",
   "execution_count": 3,
   "id": "75246239",
   "metadata": {},
   "outputs": [],
   "source": [
    "# 마켓 조사 Agent\n",
    "# 주식 조사 Agent (차트)\n",
    "# 재무제표 Agent"
   ]
  },
  {
   "cell_type": "code",
   "execution_count": null,
   "id": "1ee239bd",
   "metadata": {},
   "outputs": [],
   "source": [
    "from langchain_community.tools.yahoo_finance_news import YahooFinanceNewsTool\n",
    "from langchain_core.messages import HumanMessage\n",
    "from langgraph.prebuilt import create_react_agent\n",
    "from langgraph.types import Command\n",
    "from langgraph.graph import END, MessagesState\n",
    "from typing import Literal\n",
    "\n",
    "from langchain_community.agent_toolkits.polygon.toolkit import PolygonToolkit\n",
    "from langchain_community.utilities.polygon import PolygonAPIWrapper\n",
    "\n",
    "# state_modifier 로 페르소나 부여\n",
    "polygon = PolygonAPIWrapper()\n",
    "toolkit = PolygonToolkit.from_polygon_api_wrapper(polygon)\n",
    "polygon_tools = toolkit.get_tools()\n",
    "market_research_tools = [YahooFinanceNewsTool()] + polygon_tools\n",
    "market_research_agent = create_react_agent(llm, tools=market_research_tools, state_modifier=\"You are a market researcher. Provide fact only not opinion.\")\n",
    "\n",
    "def market_research_node(state: MessagesState) -> Command[Literal[\"supervisor\"]]:\n",
    "    result = market_research_agent.invoke(state)\n",
    "    # print(f\"market_research_node: {result}\")\n",
    "    \n",
    "    return Command(\n",
    "        update={\"messages\": [HumanMessage(content=result[\"messages\"][-1].content, name=\"market_research\")]},\n",
    "        goto=\"supervisor\"\n",
    "    )"
   ]
  },
  {
   "cell_type": "code",
   "execution_count": 18,
   "id": "890d949e",
   "metadata": {},
   "outputs": [],
   "source": [
    "from langchain.tools import tool\n",
    "import yfinance as yf\n",
    "\n",
    "@tool\n",
    "def get_stock_price(ticker: str) -> dict:\n",
    "    \"\"\"Given a stock ticker, return the price data for the past month\"\"\"\n",
    "    stock_info = yf.download(ticker, period='1mo').to_dict()\n",
    "    return stock_info\n",
    "    \n",
    "\n",
    "stock_research_tools = [get_stock_price]\n",
    "stock_research_agent = create_react_agent(small_llm, tools=stock_research_tools, state_modifier=\"You are a stock researcher. Provide fact only not opinion.\")\n",
    "\n",
    "def stock_research_node(state: MessagesState) -> Command[Literal[\"supervisor\"]]:\n",
    "    result = stock_research_agent.invoke(state)\n",
    "    # print(f\"stock_research_node: {result}\")\n",
    "    \n",
    "    return Command(\n",
    "        update={\"messages\": [HumanMessage(content=result[\"messages\"][-1].content, name=\"stock_research\")]},\n",
    "        goto=\"supervisor\"\n",
    "    )"
   ]
  },
  {
   "cell_type": "code",
   "execution_count": 8,
   "id": "129bfb4f",
   "metadata": {},
   "outputs": [
    {
     "name": "stderr",
     "output_type": "stream",
     "text": [
      "/tmp/ipykernel_2873776/2981273689.py:7: FutureWarning: YF.download() has changed argument auto_adjust default to True\n",
      "  stock_info = yf.download(ticker, period='1mo').to_dict()\n",
      "[*********************100%***********************]  1 of 1 completed\n"
     ]
    },
    {
     "data": {
      "text/plain": [
       "{('Close', 'AAPL'): {Timestamp('2025-07-14 00:00:00'): 208.3834991455078,\n",
       "  Timestamp('2025-07-15 00:00:00'): 208.87295532226562,\n",
       "  Timestamp('2025-07-16 00:00:00'): 209.92176818847656,\n",
       "  Timestamp('2025-07-17 00:00:00'): 209.78192138671875,\n",
       "  Timestamp('2025-07-18 00:00:00'): 210.9405975341797,\n",
       "  Timestamp('2025-07-21 00:00:00'): 212.23912048339844,\n",
       "  Timestamp('2025-07-22 00:00:00'): 214.15695190429688,\n",
       "  Timestamp('2025-07-23 00:00:00'): 213.9072265625,\n",
       "  Timestamp('2025-07-24 00:00:00'): 213.51766967773438,\n",
       "  Timestamp('2025-07-25 00:00:00'): 213.63754272460938,\n",
       "  Timestamp('2025-07-28 00:00:00'): 213.80735778808594,\n",
       "  Timestamp('2025-07-29 00:00:00'): 211.03050231933594,\n",
       "  Timestamp('2025-07-30 00:00:00'): 208.81301879882812,\n",
       "  Timestamp('2025-07-31 00:00:00'): 207.33470153808594,\n",
       "  Timestamp('2025-08-01 00:00:00'): 202.1505889892578,\n",
       "  Timestamp('2025-08-04 00:00:00'): 203.11949157714844,\n",
       "  Timestamp('2025-08-05 00:00:00'): 202.68995666503906,\n",
       "  Timestamp('2025-08-06 00:00:00'): 213.0082550048828,\n",
       "  Timestamp('2025-08-07 00:00:00'): 219.7805633544922,\n",
       "  Timestamp('2025-08-08 00:00:00'): 229.0900115966797,\n",
       "  Timestamp('2025-08-11 00:00:00'): 227.17999267578125},\n",
       " ('High', 'AAPL'): {Timestamp('2025-07-14 00:00:00'): 210.67091168904602,\n",
       "  Timestamp('2025-07-15 00:00:00'): 211.64980271899068,\n",
       "  Timestamp('2025-07-16 00:00:00'): 212.1592191902425,\n",
       "  Timestamp('2025-07-17 00:00:00'): 211.5599023237274,\n",
       "  Timestamp('2025-07-18 00:00:00'): 211.54990664350106,\n",
       "  Timestamp('2025-07-21 00:00:00'): 215.53538252867688,\n",
       "  Timestamp('2025-07-22 00:00:00'): 214.7063314773177,\n",
       "  Timestamp('2025-07-23 00:00:00'): 214.90609293027538,\n",
       "  Timestamp('2025-07-24 00:00:00'): 215.44548969662856,\n",
       "  Timestamp('2025-07-25 00:00:00'): 214.9960015887686,\n",
       "  Timestamp('2025-07-28 00:00:00'): 214.60645396318566,\n",
       "  Timestamp('2025-07-29 00:00:00'): 214.5664825639156,\n",
       "  Timestamp('2025-07-30 00:00:00'): 212.14922883427738,\n",
       "  Timestamp('2025-07-31 00:00:00'): 209.60211724381097,\n",
       "  Timestamp('2025-08-01 00:00:00'): 213.33788973606855,\n",
       "  Timestamp('2025-08-04 00:00:00'): 207.64435521756303,\n",
       "  Timestamp('2025-08-05 00:00:00'): 205.1072113881769,\n",
       "  Timestamp('2025-08-06 00:00:00'): 215.1358452662651,\n",
       "  Timestamp('2025-08-07 00:00:00'): 220.59964108330854,\n",
       "  Timestamp('2025-08-08 00:00:00'): 230.73813503605493,\n",
       "  Timestamp('2025-08-11 00:00:00'): 229.55999755859375},\n",
       " ('Low', 'AAPL'): {Timestamp('2025-07-14 00:00:00'): 207.3047216270235,\n",
       "  Timestamp('2025-07-15 00:00:00'): 208.6831682659836,\n",
       "  Timestamp('2025-07-16 00:00:00'): 208.40348697906978,\n",
       "  Timestamp('2025-07-17 00:00:00'): 209.35240091776063,\n",
       "  Timestamp('2025-07-18 00:00:00'): 209.46227954032304,\n",
       "  Timestamp('2025-07-21 00:00:00'): 211.39009321998003,\n",
       "  Timestamp('2025-07-22 00:00:00'): 211.9894136266437,\n",
       "  Timestamp('2025-07-23 00:00:00'): 212.1692088371252,\n",
       "  Timestamp('2025-07-24 00:00:00'): 213.28793468034502,\n",
       "  Timestamp('2025-07-25 00:00:00'): 213.15807589620647,\n",
       "  Timestamp('2025-07-28 00:00:00'): 212.81847455673218,\n",
       "  Timestamp('2025-07-29 00:00:00'): 210.58101550100253,\n",
       "  Timestamp('2025-07-30 00:00:00'): 207.48452469073794,\n",
       "  Timestamp('2025-07-31 00:00:00'): 206.92516266487007,\n",
       "  Timestamp('2025-08-01 00:00:00'): 201.27158167093614,\n",
       "  Timestamp('2025-08-04 00:00:00'): 201.4513712516652,\n",
       "  Timestamp('2025-08-05 00:00:00'): 201.93082373064988,\n",
       "  Timestamp('2025-08-06 00:00:00'): 205.35693489516686,\n",
       "  Timestamp('2025-08-07 00:00:00'): 216.33447747046458,\n",
       "  Timestamp('2025-08-08 00:00:00'): 219.00145500716468,\n",
       "  Timestamp('2025-08-11 00:00:00'): 224.75999450683594},\n",
       " ('Open', 'AAPL'): {Timestamp('2025-07-14 00:00:00'): 209.69201166358403,\n",
       "  Timestamp('2025-07-15 00:00:00'): 208.9828312368767,\n",
       "  Timestamp('2025-07-16 00:00:00'): 210.06160887608695,\n",
       "  Timestamp('2025-07-17 00:00:00'): 210.33130094399476,\n",
       "  Timestamp('2025-07-18 00:00:00'): 210.63095139102305,\n",
       "  Timestamp('2025-07-21 00:00:00'): 211.8595616297783,\n",
       "  Timestamp('2025-07-22 00:00:00'): 212.89838571641525,\n",
       "  Timestamp('2025-07-23 00:00:00'): 214.75626907170553,\n",
       "  Timestamp('2025-07-24 00:00:00'): 213.65751035981805,\n",
       "  Timestamp('2025-07-25 00:00:00'): 214.45660521718813,\n",
       "  Timestamp('2025-07-28 00:00:00'): 213.78737619229818,\n",
       "  Timestamp('2025-07-29 00:00:00'): 213.93719187335407,\n",
       "  Timestamp('2025-07-30 00:00:00'): 211.65977882345743,\n",
       "  Timestamp('2025-07-31 00:00:00'): 208.25365677749065,\n",
       "  Timestamp('2025-08-01 00:00:00'): 210.63095505795985,\n",
       "  Timestamp('2025-08-04 00:00:00'): 204.27816503495924,\n",
       "  Timestamp('2025-08-05 00:00:00'): 203.1694082424696,\n",
       "  Timestamp('2025-08-06 00:00:00'): 205.39689808550258,\n",
       "  Timestamp('2025-08-07 00:00:00'): 218.63187314031333,\n",
       "  Timestamp('2025-08-08 00:00:00'): 220.57966572513484,\n",
       "  Timestamp('2025-08-11 00:00:00'): 227.9199981689453},\n",
       " ('Volume', 'AAPL'): {Timestamp('2025-07-14 00:00:00'): 38840100,\n",
       "  Timestamp('2025-07-15 00:00:00'): 42296300,\n",
       "  Timestamp('2025-07-16 00:00:00'): 47490500,\n",
       "  Timestamp('2025-07-17 00:00:00'): 48068100,\n",
       "  Timestamp('2025-07-18 00:00:00'): 48974600,\n",
       "  Timestamp('2025-07-21 00:00:00'): 51377400,\n",
       "  Timestamp('2025-07-22 00:00:00'): 46404100,\n",
       "  Timestamp('2025-07-23 00:00:00'): 46989300,\n",
       "  Timestamp('2025-07-24 00:00:00'): 46022600,\n",
       "  Timestamp('2025-07-25 00:00:00'): 40268800,\n",
       "  Timestamp('2025-07-28 00:00:00'): 37858000,\n",
       "  Timestamp('2025-07-29 00:00:00'): 51411700,\n",
       "  Timestamp('2025-07-30 00:00:00'): 45512500,\n",
       "  Timestamp('2025-07-31 00:00:00'): 80698400,\n",
       "  Timestamp('2025-08-01 00:00:00'): 104434500,\n",
       "  Timestamp('2025-08-04 00:00:00'): 75109300,\n",
       "  Timestamp('2025-08-05 00:00:00'): 44155100,\n",
       "  Timestamp('2025-08-06 00:00:00'): 108483100,\n",
       "  Timestamp('2025-08-07 00:00:00'): 90224800,\n",
       "  Timestamp('2025-08-08 00:00:00'): 113854000,\n",
       "  Timestamp('2025-08-11 00:00:00'): 61725300}}"
      ]
     },
     "execution_count": 8,
     "metadata": {},
     "output_type": "execute_result"
    }
   ],
   "source": [
    "get_stock_price(\"AAPL\")"
   ]
  },
  {
   "cell_type": "code",
   "execution_count": 33,
   "id": "2f9b0604",
   "metadata": {},
   "outputs": [],
   "source": [
    "@tool\n",
    "def company_research_tool(ticker: str) -> dict:\n",
    "    \"\"\"Given a ticker, return the company information\"\"\"\n",
    "    \n",
    "    company_info = yf.Ticker(ticker)\n",
    "    finacial_info = company_info.get_financials()\n",
    "    sec_filings = company_info.get_sec_filings()\n",
    "    \n",
    "    return {\n",
    "        \"finacial_info\": finacial_info,\n",
    "        \"sec_filings\": sec_filings\n",
    "    }\n",
    "    \n",
    "company_research_tools = [company_research_tool]\n",
    "company_research_agent = create_react_agent(llm, tools=company_research_tools, state_modifier=\"You are a company researcher. Provide fact only not opinion.\")\n",
    "\n",
    "def company_research_node(state: MessagesState) -> Command[Literal[\"supervisor\"]]:\n",
    "    result = company_research_agent.invoke(state)\n",
    "    # print(f\"company_research_node: {result}\")\n",
    "    \n",
    "    return Command(\n",
    "        update={\"messages\": [HumanMessage(content=result[\"messages\"][-1].content, name=\"company_research\")]},\n",
    "        goto=\"supervisor\"\n",
    "    )"
   ]
  },
  {
   "cell_type": "code",
   "execution_count": null,
   "id": "8c5f9ea1",
   "metadata": {},
   "outputs": [],
   "source": [
    "from langchain_core.prompts import PromptTemplate\n",
    "\n",
    "analyst_prompt = PromptTemplate.from_template(\"\"\"You are a stock market analyst. Given the following information,\n",
    "                                              Please provide a summary of the messages and a recommendation for the user.\n",
    "                                              \n",
    "                                              Information:\n",
    "                                              {messages}\"\"\")\n",
    "\n",
    "analyst_chain = analyst_prompt | llm\n",
    "def analyst_node(state: MessagesState):\n",
    "    result = analyst_chain.invoke({\"messages\": state[\"messages\"][1:]})\n",
    "    return {\"messages\": [HumanMessage(content=result.content, name=\"analyst\")]}"
   ]
  },
  {
   "cell_type": "code",
   "execution_count": 41,
   "id": "824331d1",
   "metadata": {},
   "outputs": [],
   "source": [
    "from typing import Literal\n",
    "from typing_extensions import TypedDict\n",
    "\n",
    "from langgraph.graph import MessagesState, END\n",
    "from langgraph.types import Command\n",
    "\n",
    "\n",
    "members = [\"market_research\", \"stock_research\", \"company_research\"]\n",
    "options = members + [\"FINISH\"]\n",
    "\n",
    "system_prompt = (\n",
    "    \"You are a supervisor tasked with managing a conversation between the\"\n",
    "    f\" following workers: {members}. Given the following user request,\"\n",
    "    \" respond with the worker to act next. Each worker will perform a\"\n",
    "    \" task and respond with their results and status. When finished,\"\n",
    "    \" respond with FINISH.\"\n",
    ")\n",
    "\n",
    "\n",
    "class Router(TypedDict):\n",
    "    \"\"\"Worker to route to next. If no workers needed, route to FINISH.\"\"\"\n",
    "\n",
    "    next: Literal[*options]\n",
    "\n",
    "\n",
    "\n",
    "def supervisor_node(state: MessagesState) -> Command[Literal[*members, \"analyst\"]]:\n",
    "    \"\"\"\n",
    "    supervisor node입니다. 주어진 State를 기반으로 각 worker의 결과를 종합하고,\n",
    "    다음에 수행할 worker를 결정합니다. 모든 작업이 완료되면 analyst node로 이동합니다.\n",
    "\n",
    "    Args:\n",
    "        state (MessagesState): 현재 메시지 상태를 나타내는 객체입니다.\n",
    "\n",
    "    Returns:\n",
    "        Command: 다음에 수행할 worker 또는 analyst node로 이동하기 위한 명령을 반환합니다.\n",
    "    \"\"\"\n",
    "    messages = [\n",
    "        {\"role\": \"system\", \"content\": system_prompt},\n",
    "    ] + state[\"messages\"]\n",
    "    response = llm.with_structured_output(Router).invoke(messages)\n",
    "    goto = response[\"next\"]\n",
    "    if goto == \"FINISH\":\n",
    "        goto = \"analyst\"\n",
    "\n",
    "    return Command(goto=goto)"
   ]
  },
  {
   "cell_type": "code",
   "execution_count": 47,
   "id": "e9653fff",
   "metadata": {},
   "outputs": [
    {
     "data": {
      "text/plain": [
       "<langgraph.graph.state.StateGraph at 0x7f898b6d2690>"
      ]
     },
     "execution_count": 47,
     "metadata": {},
     "output_type": "execute_result"
    }
   ],
   "source": [
    "from langgraph.graph import StateGraph, START\n",
    "\n",
    "graph_builder = StateGraph(MessagesState)\n",
    "\n",
    "graph_builder.add_node(\"supervisor\", supervisor_node)\n",
    "graph_builder.add_node(\"market_research\", market_research_node)\n",
    "graph_builder.add_node(\"stock_research\", stock_research_node)\n",
    "graph_builder.add_node(\"company_research\", company_research_node)\n",
    "graph_builder.add_node(\"analyst\", analyst_node)\n"
   ]
  },
  {
   "cell_type": "code",
   "execution_count": 48,
   "id": "c4523497",
   "metadata": {},
   "outputs": [],
   "source": [
    "graph_builder.add_edge(START, \"supervisor\")\n",
    "graph_builder.add_edge(\"analyst\", END)\n",
    "# Conditional로 모두 처리되어있어서 나머지는 필요없음\n",
    "graph = graph_builder.compile()"
   ]
  },
  {
   "cell_type": "code",
   "execution_count": 49,
   "id": "8f3107fc",
   "metadata": {},
   "outputs": [
    {
     "data": {
      "image/png": "[encoded data removed]",
      "text/plain": [
       "<IPython.core.display.Image object>"
      ]
     },
     "metadata": {},
     "output_type": "display_data"
    }
   ],
   "source": [
    "from IPython.display import Image, display\n",
    "\n",
    "display(Image(graph.get_graph().draw_mermaid_png()))"
   ]
  },
  {
   "cell_type": "code",
   "execution_count": 38,
   "id": "6c48ea04",
   "metadata": {},
   "outputs": [
    {
     "name": "stdout",
     "output_type": "stream",
     "text": [
      "================================\u001b[1m Human Message \u001b[0m=================================\n",
      "\n",
      "Would you invest in Snowflake?\n",
      "================================\u001b[1m Human Message \u001b[0m=================================\n",
      "Name: market_research\n",
      "\n",
      "As an AI language model, I don't have personal opinions or the ability to invest. However, I can help you gather information to make an informed decision. If you're considering investing in Snowflake, it's important to look at various factors such as the company's financial health, market position, growth potential, and recent news.\n",
      "\n",
      "Would you like me to find the latest financial news about Snowflake to help you with your decision?\n",
      "================================\u001b[1m Human Message \u001b[0m=================================\n",
      "Name: company_research\n",
      "\n",
      "Here's some financial information and recent SEC filings for Snowflake (Ticker: SNOW) that might help you in making an investment decision:\n",
      "\n",
      "### Financial Information (as of January 31, 2025):\n",
      "- **Total Revenue**: $3.63 billion\n",
      "- **Gross Profit**: $2.41 billion\n",
      "- **Operating Income**: -$1.46 billion\n",
      "- **Net Income**: -$1.29 billion\n",
      "- **EBITDA**: -$1.10 billion\n",
      "- **Research and Development Expenses**: $1.78 billion\n",
      "- **Selling, General, and Administrative Expenses**: $2.08 billion\n",
      "- **Diluted EPS**: -$3.86\n",
      "\n",
      "### Recent SEC Filings:\n",
      "1. **8-K (Corporate Changes & Voting Matters)** - July 3, 2025\n",
      "   - [View Filing](https://finance.yahoo.com/sec-filing/SNOW/0001640147-25-000150_1640147)\n",
      "   - [Exhibit 3.1](https://cdn.yahoofinance.com/prod/sec-filings/0001640147/000164014725000150/snowflake-arcertificateofi.htm)\n",
      "\n",
      "2. **10-Q (Periodic Financial Reports)** - May 30, 2025\n",
      "   - [View Filing](https://finance.yahoo.com/sec-filing/SNOW/0001640147-25-000110_1640147)\n",
      "   - [Exhibit 31.1](https://cdn.yahoofinance.com/prod/sec-filings/0001640147/000164014725000110/ex-311snowflakefy2026q1.htm)\n",
      "\n",
      "3. **DEF 14A (Proxy Statements)** - May 21, 2025\n",
      "   - [View Filing](https://finance.yahoo.com/sec-filing/SNOW/0001640147-25-000096_1640147)\n",
      "\n",
      "4. **10-K (Annual Report)** - March 21, 2025\n",
      "   - [View Filing](https://finance.yahoo.com/sec-filing/SNOW/0001640147-25-000052_1640147)\n",
      "   - [Exhibit 10-K](https://cdn.yahoofinance.com/prod/sec-filings/0001640147/000164014725000052/snow-20250131.htm)\n",
      "\n",
      "### Considerations:\n",
      "- Snowflake has been experiencing significant expenses in research and development, as well as selling, general, and administrative areas, which are impacting its net income negatively.\n",
      "- The company is still in a growth phase, focusing heavily on expanding its capabilities and market reach.\n",
      "- It's important to consider the company's strategic direction, market trends, and potential for future profitability.\n",
      "\n",
      "Before making any investment decisions, you may want to consult with a financial advisor and consider your own financial situation and risk tolerance.\n"
     ]
    },
    {
     "name": "stderr",
     "output_type": "stream",
     "text": [
      "/tmp/ipykernel_2873776/2996360681.py:7: FutureWarning: YF.download() has changed argument auto_adjust default to True\n",
      "  stock_info = yf.download(ticker, period='1mo').to_dict()\n",
      "[*********************100%***********************]  1 of 1 completed\n"
     ]
    },
    {
     "name": "stdout",
     "output_type": "stream",
     "text": [
      "================================\u001b[1m Human Message \u001b[0m=================================\n",
      "Name: stock_research\n",
      "\n",
      "Here's a summary of the financial information and recent stock performance for Snowflake (Ticker: SNOW) to help you in your investment decision:\n",
      "\n",
      "### Financial Overview (as of January 31, 2025):\n",
      "- **Total Revenue**: $3.63 billion\n",
      "- **Gross Profit**: $2.41 billion\n",
      "- **Operating Income**: -$1.46 billion\n",
      "- **Net Income**: -$1.29 billion\n",
      "- **EBITDA**: -$1.10 billion\n",
      "- **Research and Development Expenses**: $1.78 billion\n",
      "- **Selling, General, and Administrative Expenses**: $2.08 billion\n",
      "- **Diluted EPS**: -$3.86\n",
      "\n",
      "### Recent SEC Filings:\n",
      "1. **8-K (Corporate Changes & Voting Matters)** - July 3, 2025\n",
      "2. **10-Q (Periodic Financial Reports)** - May 30, 2025\n",
      "3. **DEF 14A (Proxy Statements)** - May 21, 2025\n",
      "4. **10-K (Annual Report)** - March 21, 2025\n",
      "\n",
      "### Stock Performance (Last Month):\n",
      "- **Current Price**: $191.80 (as of August 11, 2025)\n",
      "- **Price Range**: \n",
      "  - **High**: $229.27 (July 31, 2025)\n",
      "  - **Low**: $191.12 (August 11, 2025)\n",
      "- **Recent Closing Prices**:\n",
      "  - August 4, 2025: $208.48\n",
      "  - August 5, 2025: $205.77\n",
      "  - August 6, 2025: $210.54\n",
      "  - August 7, 2025: $206.40\n",
      "  - August 8, 2025: $191.73\n",
      "  - August 11, 2025: $191.80\n",
      "\n",
      "### Considerations:\n",
      "- Snowflake is currently operating at a loss, with significant expenses in R&D and administrative areas impacting profitability.\n",
      "- The company is in a growth phase, focusing on expanding its market reach and capabilities.\n",
      "- The stock has shown volatility, with a recent high of $229.27 and a low of $191.12 in the past month.\n",
      "\n",
      "### Conclusion:\n",
      "Investing in Snowflake may be suitable for those who believe in its long-term growth potential despite current losses. It's essential to consider your financial situation, risk tolerance, and possibly consult with a financial advisor before making any investment decisions.\n"
     ]
    }
   ],
   "source": [
    "for chunk in graph.stream({\"messages\": [\"user\", \"Would you invest in Snowflake?\"]}, stream_mode=\"values\"):\n",
    "    chunk[\"messages\"][-1].pretty_print()"
   ]
  },
  {
   "cell_type": "code",
   "execution_count": null,
   "id": "34567a9b",
   "metadata": {},
   "outputs": [],
   "source": []
  }
 ],
 "metadata": {
  "kernelspec": {
   "display_name": ".venv",
   "language": "python",
   "name": "python3"
  },
  "language_info": {
   "codemirror_mode": {
    "name": "ipython",
    "version": 3
   },
   "file_extension": ".py",
   "mimetype": "text/x-python",
   "name": "python",
   "nbconvert_exporter": "python",
   "pygments_lexer": "ipython3",
   "version": "3.13.3"
  }
 },
 "nbformat": 4,
 "nbformat_minor": 5
}
